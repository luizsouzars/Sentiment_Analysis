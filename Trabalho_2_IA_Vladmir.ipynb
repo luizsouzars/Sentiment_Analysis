{
  "cells": [
    {
      "cell_type": "code",
      "execution_count": 1,
      "metadata": {
        "id": "2vVRWP7vbnmO"
      },
      "outputs": [
        {
          "ename": "ModuleNotFoundError",
          "evalue": "No module named 'spacy'",
          "output_type": "error",
          "traceback": [
            "\u001b[1;31m---------------------------------------------------------------------------\u001b[0m",
            "\u001b[1;31mModuleNotFoundError\u001b[0m                       Traceback (most recent call last)",
            "\u001b[1;32m~\\AppData\\Local\\Temp\\ipykernel_30912\\2293564481.py\u001b[0m in \u001b[0;36m<module>\u001b[1;34m\u001b[0m\n\u001b[0;32m      2\u001b[0m \u001b[1;32mimport\u001b[0m \u001b[0mre\u001b[0m\u001b[1;33m\u001b[0m\u001b[1;33m\u001b[0m\u001b[0m\n\u001b[0;32m      3\u001b[0m \u001b[1;32mimport\u001b[0m \u001b[0mnltk\u001b[0m\u001b[1;33m\u001b[0m\u001b[1;33m\u001b[0m\u001b[0m\n\u001b[1;32m----> 4\u001b[1;33m \u001b[1;32mimport\u001b[0m \u001b[0mspacy\u001b[0m\u001b[1;33m\u001b[0m\u001b[1;33m\u001b[0m\u001b[0m\n\u001b[0m\u001b[0;32m      5\u001b[0m \u001b[1;32mimport\u001b[0m \u001b[0mmatplotlib\u001b[0m\u001b[1;33m.\u001b[0m\u001b[0mpyplot\u001b[0m \u001b[1;32mas\u001b[0m \u001b[0mplt\u001b[0m\u001b[1;33m\u001b[0m\u001b[1;33m\u001b[0m\u001b[0m\n\u001b[0;32m      6\u001b[0m \u001b[1;32mimport\u001b[0m \u001b[0mseaborn\u001b[0m \u001b[1;32mas\u001b[0m \u001b[0msns\u001b[0m\u001b[1;33m\u001b[0m\u001b[1;33m\u001b[0m\u001b[0m\n",
            "\u001b[1;31mModuleNotFoundError\u001b[0m: No module named 'spacy'"
          ]
        }
      ],
      "source": [
        "import pandas as pd\n",
        "import re\n",
        "import nltk\n",
        "import spacy\n",
        "import matplotlib.pyplot as plt\n",
        "import seaborn as sns\n",
        "import sklearn\n",
        "import numpy as np"
      ]
    },
    {
      "cell_type": "code",
      "execution_count": null,
      "metadata": {
        "id": "qEC6fIN9dJH3"
      },
      "outputs": [],
      "source": [
        "# data = pd.read_csv(\"/content/drive/MyDrive/DebateGovRS_Anotado.csv\")\n",
        "data = pd.read_csv('DebateGovRS_Anotado.xlsx - DebateGovRS_Anotado.csv')\n"
      ]
    },
    {
      "cell_type": "code",
      "execution_count": null,
      "metadata": {
        "colab": {
          "base_uri": "https://localhost:8080/",
          "height": 520
        },
        "id": "hoBZIKV-dVkt",
        "outputId": "f81ef7cb-9268-4094-91ed-a8a8037dc420"
      },
      "outputs": [
        {
          "data": {
            "text/html": [
              "\n",
              "  <div id=\"df-b8b45134-005f-4d12-bfa8-2dd5cec4f11b\">\n",
              "    <div class=\"colab-df-container\">\n",
              "      <div>\n",
              "<style scoped>\n",
              "    .dataframe tbody tr th:only-of-type {\n",
              "        vertical-align: middle;\n",
              "    }\n",
              "\n",
              "    .dataframe tbody tr th {\n",
              "        vertical-align: top;\n",
              "    }\n",
              "\n",
              "    .dataframe thead th {\n",
              "        text-align: right;\n",
              "    }\n",
              "</style>\n",
              "<table border=\"1\" class=\"dataframe\">\n",
              "  <thead>\n",
              "    <tr style=\"text-align: right;\">\n",
              "      <th></th>\n",
              "      <th>author_id</th>\n",
              "      <th>created_at</th>\n",
              "      <th>id</th>\n",
              "      <th>lang</th>\n",
              "      <th>retweet_count</th>\n",
              "      <th>text</th>\n",
              "      <th>sinal</th>\n",
              "    </tr>\n",
              "  </thead>\n",
              "  <tbody>\n",
              "    <tr>\n",
              "      <th>0</th>\n",
              "      <td>1,46E+18</td>\n",
              "      <td>2022-08-08T01:08:23Z</td>\n",
              "      <td>1,56E+18</td>\n",
              "      <td>pt</td>\n",
              "      <td>45</td>\n",
              "      <td>RT @EdegarPretto O meu candidato vice-governad...</td>\n",
              "      <td>1.0</td>\n",
              "    </tr>\n",
              "    <tr>\n",
              "      <th>1</th>\n",
              "      <td>1,51E+18</td>\n",
              "      <td>2022-08-08T01:08:23Z</td>\n",
              "      <td>1,56E+18</td>\n",
              "      <td>pt</td>\n",
              "      <td>0</td>\n",
              "      <td>Periga o Argenta chamar o Simon pra responder ...</td>\n",
              "      <td>NaN</td>\n",
              "    </tr>\n",
              "    <tr>\n",
              "      <th>2</th>\n",
              "      <td>1,06E+18</td>\n",
              "      <td>2022-08-08T01:08:21Z</td>\n",
              "      <td>1,56E+18</td>\n",
              "      <td>pt</td>\n",
              "      <td>14</td>\n",
              "      <td>RT @WinstonLing Segue o link para assistirem o...</td>\n",
              "      <td>1.0</td>\n",
              "    </tr>\n",
              "    <tr>\n",
              "      <th>3</th>\n",
              "      <td>7,15E+17</td>\n",
              "      <td>2022-08-08T01:08:20Z</td>\n",
              "      <td>1,56E+18</td>\n",
              "      <td>pt</td>\n",
              "      <td>88</td>\n",
              "      <td>RT @EdegarPretto Eu quero dizer aos gaúchos e ...</td>\n",
              "      <td>NaN</td>\n",
              "    </tr>\n",
              "    <tr>\n",
              "      <th>4</th>\n",
              "      <td>1455004730</td>\n",
              "      <td>2022-08-08T01:08:20Z</td>\n",
              "      <td>1,56E+18</td>\n",
              "      <td>pt</td>\n",
              "      <td>0</td>\n",
              "      <td>@wmfigueiredo @evertonvf @bandrs @EduardoLeite...</td>\n",
              "      <td>0.0</td>\n",
              "    </tr>\n",
              "    <tr>\n",
              "      <th>5</th>\n",
              "      <td>1,23E+18</td>\n",
              "      <td>2022-08-08T01:08:20Z</td>\n",
              "      <td>1,56E+18</td>\n",
              "      <td>und</td>\n",
              "      <td>0</td>\n",
              "      <td>@EduardoLeite_ 🤡</td>\n",
              "      <td>0.0</td>\n",
              "    </tr>\n",
              "    <tr>\n",
              "      <th>6</th>\n",
              "      <td>116829646</td>\n",
              "      <td>2022-08-08T01:08:19Z</td>\n",
              "      <td>1,56E+18</td>\n",
              "      <td>pt</td>\n",
              "      <td>41</td>\n",
              "      <td>Nós já governamos o Rio Grande Sul com @olivio...</td>\n",
              "      <td>0.0</td>\n",
              "    </tr>\n",
              "    <tr>\n",
              "      <th>7</th>\n",
              "      <td>337744562</td>\n",
              "      <td>2022-08-08T01:08:18Z</td>\n",
              "      <td>1,56E+18</td>\n",
              "      <td>pt</td>\n",
              "      <td>1</td>\n",
              "      <td>Onyx Caixa 2 confesso não pode falar em corrup...</td>\n",
              "      <td>0.0</td>\n",
              "    </tr>\n",
              "    <tr>\n",
              "      <th>8</th>\n",
              "      <td>2336691999</td>\n",
              "      <td>2022-08-08T01:08:17Z</td>\n",
              "      <td>1,56E+18</td>\n",
              "      <td>pt</td>\n",
              "      <td>0</td>\n",
              "      <td>@onyxlorenzoni Essa gente de bem é mesma que é...</td>\n",
              "      <td>0.0</td>\n",
              "    </tr>\n",
              "    <tr>\n",
              "      <th>9</th>\n",
              "      <td>176570576</td>\n",
              "      <td>2022-08-08T01:08:17Z</td>\n",
              "      <td>1,56E+18</td>\n",
              "      <td>pt</td>\n",
              "      <td>31</td>\n",
              "      <td>RT @LeonelRadde @EdegarPretto demolindo o Onyx...</td>\n",
              "      <td>0.0</td>\n",
              "    </tr>\n",
              "    <tr>\n",
              "      <th>10</th>\n",
              "      <td>1,28E+18</td>\n",
              "      <td>2022-08-08T01:08:16Z</td>\n",
              "      <td>1,56E+18</td>\n",
              "      <td>pt</td>\n",
              "      <td>121</td>\n",
              "      <td>RT @JulianaBrizola Oi O PDT não coloca educaçã...</td>\n",
              "      <td>0.0</td>\n",
              "    </tr>\n",
              "    <tr>\n",
              "      <th>11</th>\n",
              "      <td>2800008013</td>\n",
              "      <td>2022-08-08T01:08:16Z</td>\n",
              "      <td>1,56E+18</td>\n",
              "      <td>pt</td>\n",
              "      <td>1</td>\n",
              "      <td>RT @O_Marcoss Chegou até suar o implante novo ...</td>\n",
              "      <td>0.0</td>\n",
              "    </tr>\n",
              "    <tr>\n",
              "      <th>12</th>\n",
              "      <td>2235596608</td>\n",
              "      <td>2022-08-08T01:08:15Z</td>\n",
              "      <td>1,56E+18</td>\n",
              "      <td>pt</td>\n",
              "      <td>32</td>\n",
              "      <td>RT @laurasito Onyx caixa 2 confesso não pode f...</td>\n",
              "      <td>0.0</td>\n",
              "    </tr>\n",
              "    <tr>\n",
              "      <th>13</th>\n",
              "      <td>260033336</td>\n",
              "      <td>2022-08-08T01:08:11Z</td>\n",
              "      <td>1,56E+18</td>\n",
              "      <td>pt</td>\n",
              "      <td>131</td>\n",
              "      <td>RT @LeonelRadde Onyx Caixa 2 já mentiu umas 20...</td>\n",
              "      <td>0.0</td>\n",
              "    </tr>\n",
              "    <tr>\n",
              "      <th>14</th>\n",
              "      <td>1,46E+18</td>\n",
              "      <td>2022-08-08T01:08:11Z</td>\n",
              "      <td>1,56E+18</td>\n",
              "      <td>pt</td>\n",
              "      <td>79</td>\n",
              "      <td>RT @EdegarPretto Não consigo compreender como ...</td>\n",
              "      <td>0.0</td>\n",
              "    </tr>\n",
              "  </tbody>\n",
              "</table>\n",
              "</div>\n",
              "      <button class=\"colab-df-convert\" onclick=\"convertToInteractive('df-b8b45134-005f-4d12-bfa8-2dd5cec4f11b')\"\n",
              "              title=\"Convert this dataframe to an interactive table.\"\n",
              "              style=\"display:none;\">\n",
              "        \n",
              "  <svg xmlns=\"http://www.w3.org/2000/svg\" height=\"24px\"viewBox=\"0 0 24 24\"\n",
              "       width=\"24px\">\n",
              "    <path d=\"M0 0h24v24H0V0z\" fill=\"none\"/>\n",
              "    <path d=\"M18.56 5.44l.94 2.06.94-2.06 2.06-.94-2.06-.94-.94-2.06-.94 2.06-2.06.94zm-11 1L8.5 8.5l.94-2.06 2.06-.94-2.06-.94L8.5 2.5l-.94 2.06-2.06.94zm10 10l.94 2.06.94-2.06 2.06-.94-2.06-.94-.94-2.06-.94 2.06-2.06.94z\"/><path d=\"M17.41 7.96l-1.37-1.37c-.4-.4-.92-.59-1.43-.59-.52 0-1.04.2-1.43.59L10.3 9.45l-7.72 7.72c-.78.78-.78 2.05 0 2.83L4 21.41c.39.39.9.59 1.41.59.51 0 1.02-.2 1.41-.59l7.78-7.78 2.81-2.81c.8-.78.8-2.07 0-2.86zM5.41 20L4 18.59l7.72-7.72 1.47 1.35L5.41 20z\"/>\n",
              "  </svg>\n",
              "      </button>\n",
              "      \n",
              "  <style>\n",
              "    .colab-df-container {\n",
              "      display:flex;\n",
              "      flex-wrap:wrap;\n",
              "      gap: 12px;\n",
              "    }\n",
              "\n",
              "    .colab-df-convert {\n",
              "      background-color: #E8F0FE;\n",
              "      border: none;\n",
              "      border-radius: 50%;\n",
              "      cursor: pointer;\n",
              "      display: none;\n",
              "      fill: #1967D2;\n",
              "      height: 32px;\n",
              "      padding: 0 0 0 0;\n",
              "      width: 32px;\n",
              "    }\n",
              "\n",
              "    .colab-df-convert:hover {\n",
              "      background-color: #E2EBFA;\n",
              "      box-shadow: 0px 1px 2px rgba(60, 64, 67, 0.3), 0px 1px 3px 1px rgba(60, 64, 67, 0.15);\n",
              "      fill: #174EA6;\n",
              "    }\n",
              "\n",
              "    [theme=dark] .colab-df-convert {\n",
              "      background-color: #3B4455;\n",
              "      fill: #D2E3FC;\n",
              "    }\n",
              "\n",
              "    [theme=dark] .colab-df-convert:hover {\n",
              "      background-color: #434B5C;\n",
              "      box-shadow: 0px 1px 3px 1px rgba(0, 0, 0, 0.15);\n",
              "      filter: drop-shadow(0px 1px 2px rgba(0, 0, 0, 0.3));\n",
              "      fill: #FFFFFF;\n",
              "    }\n",
              "  </style>\n",
              "\n",
              "      <script>\n",
              "        const buttonEl =\n",
              "          document.querySelector('#df-b8b45134-005f-4d12-bfa8-2dd5cec4f11b button.colab-df-convert');\n",
              "        buttonEl.style.display =\n",
              "          google.colab.kernel.accessAllowed ? 'block' : 'none';\n",
              "\n",
              "        async function convertToInteractive(key) {\n",
              "          const element = document.querySelector('#df-b8b45134-005f-4d12-bfa8-2dd5cec4f11b');\n",
              "          const dataTable =\n",
              "            await google.colab.kernel.invokeFunction('convertToInteractive',\n",
              "                                                     [key], {});\n",
              "          if (!dataTable) return;\n",
              "\n",
              "          const docLinkHtml = 'Like what you see? Visit the ' +\n",
              "            '<a target=\"_blank\" href=https://colab.research.google.com/notebooks/data_table.ipynb>data table notebook</a>'\n",
              "            + ' to learn more about interactive tables.';\n",
              "          element.innerHTML = '';\n",
              "          dataTable['output_type'] = 'display_data';\n",
              "          await google.colab.output.renderOutput(dataTable, element);\n",
              "          const docLink = document.createElement('div');\n",
              "          docLink.innerHTML = docLinkHtml;\n",
              "          element.appendChild(docLink);\n",
              "        }\n",
              "      </script>\n",
              "    </div>\n",
              "  </div>\n",
              "  "
            ],
            "text/plain": [
              "     author_id            created_at        id lang  retweet_count  \\\n",
              "0     1,46E+18  2022-08-08T01:08:23Z  1,56E+18   pt             45   \n",
              "1     1,51E+18  2022-08-08T01:08:23Z  1,56E+18   pt              0   \n",
              "2     1,06E+18  2022-08-08T01:08:21Z  1,56E+18   pt             14   \n",
              "3     7,15E+17  2022-08-08T01:08:20Z  1,56E+18   pt             88   \n",
              "4   1455004730  2022-08-08T01:08:20Z  1,56E+18   pt              0   \n",
              "5     1,23E+18  2022-08-08T01:08:20Z  1,56E+18  und              0   \n",
              "6    116829646  2022-08-08T01:08:19Z  1,56E+18   pt             41   \n",
              "7    337744562  2022-08-08T01:08:18Z  1,56E+18   pt              1   \n",
              "8   2336691999  2022-08-08T01:08:17Z  1,56E+18   pt              0   \n",
              "9    176570576  2022-08-08T01:08:17Z  1,56E+18   pt             31   \n",
              "10    1,28E+18  2022-08-08T01:08:16Z  1,56E+18   pt            121   \n",
              "11  2800008013  2022-08-08T01:08:16Z  1,56E+18   pt              1   \n",
              "12  2235596608  2022-08-08T01:08:15Z  1,56E+18   pt             32   \n",
              "13   260033336  2022-08-08T01:08:11Z  1,56E+18   pt            131   \n",
              "14    1,46E+18  2022-08-08T01:08:11Z  1,56E+18   pt             79   \n",
              "\n",
              "                                                 text  sinal  \n",
              "0   RT @EdegarPretto O meu candidato vice-governad...    1.0  \n",
              "1   Periga o Argenta chamar o Simon pra responder ...    NaN  \n",
              "2   RT @WinstonLing Segue o link para assistirem o...    1.0  \n",
              "3   RT @EdegarPretto Eu quero dizer aos gaúchos e ...    NaN  \n",
              "4   @wmfigueiredo @evertonvf @bandrs @EduardoLeite...    0.0  \n",
              "5                                   @EduardoLeite_ 🤡     0.0  \n",
              "6   Nós já governamos o Rio Grande Sul com @olivio...    0.0  \n",
              "7   Onyx Caixa 2 confesso não pode falar em corrup...    0.0  \n",
              "8   @onyxlorenzoni Essa gente de bem é mesma que é...    0.0  \n",
              "9   RT @LeonelRadde @EdegarPretto demolindo o Onyx...    0.0  \n",
              "10  RT @JulianaBrizola Oi O PDT não coloca educaçã...    0.0  \n",
              "11  RT @O_Marcoss Chegou até suar o implante novo ...    0.0  \n",
              "12  RT @laurasito Onyx caixa 2 confesso não pode f...    0.0  \n",
              "13  RT @LeonelRadde Onyx Caixa 2 já mentiu umas 20...    0.0  \n",
              "14  RT @EdegarPretto Não consigo compreender como ...    0.0  "
            ]
          },
          "execution_count": 3,
          "metadata": {},
          "output_type": "execute_result"
        }
      ],
      "source": [
        "data.head(15)"
      ]
    },
    {
      "cell_type": "code",
      "execution_count": null,
      "metadata": {
        "colab": {
          "base_uri": "https://localhost:8080/"
        },
        "id": "FPVVZ6lTdfOd",
        "outputId": "8c7d4544-87cc-4fc8-da0c-bc57a358b47c"
      },
      "outputs": [
        {
          "name": "stderr",
          "output_type": "stream",
          "text": [
            "/usr/local/lib/python3.7/dist-packages/ipykernel_launcher.py:1: FutureWarning: In a future version of pandas all arguments of DataFrame.drop except for the argument 'labels' will be keyword-only\n",
            "  \"\"\"Entry point for launching an IPython kernel.\n"
          ]
        }
      ],
      "source": [
        "data.drop(['author_id', 'created_at', 'id', 'lang', 'retweet_count'],1, inplace=True)"
      ]
    },
    {
      "cell_type": "code",
      "execution_count": null,
      "metadata": {
        "colab": {
          "base_uri": "https://localhost:8080/"
        },
        "id": "3PvKvzdodxXI",
        "outputId": "abdbfe41-8b6b-4ff3-dfe1-6d06ca0d1dfc"
      },
      "outputs": [
        {
          "name": "stdout",
          "output_type": "stream",
          "text": [
            "<class 'pandas.core.frame.DataFrame'>\n",
            "RangeIndex: 3000 entries, 0 to 2999\n",
            "Data columns (total 2 columns):\n",
            " #   Column  Non-Null Count  Dtype  \n",
            "---  ------  --------------  -----  \n",
            " 0   text    3000 non-null   object \n",
            " 1   sinal   1372 non-null   float64\n",
            "dtypes: float64(1), object(1)\n",
            "memory usage: 47.0+ KB\n"
          ]
        }
      ],
      "source": [
        "data.info()"
      ]
    },
    {
      "cell_type": "code",
      "execution_count": null,
      "metadata": {
        "colab": {
          "base_uri": "https://localhost:8080/"
        },
        "id": "HlwU2Lpxd4IQ",
        "outputId": "70ddaca0-68af-48d9-c31a-245bb80b61e8"
      },
      "outputs": [
        {
          "name": "stdout",
          "output_type": "stream",
          "text": [
            "Tweets com texto duplicado: 39.43%.\n"
          ]
        }
      ],
      "source": [
        "duplicados = round(sum(data.duplicated(\"text\"))/len(data)*100,2)\n",
        "print(f'Tweets com texto duplicado: {duplicados}%.')"
      ]
    },
    {
      "cell_type": "code",
      "execution_count": null,
      "metadata": {
        "id": "60QwfgveeFzJ"
      },
      "outputs": [],
      "source": [
        "data.drop_duplicates(\"text\", inplace=True)"
      ]
    },
    {
      "cell_type": "code",
      "execution_count": null,
      "metadata": {
        "colab": {
          "base_uri": "https://localhost:8080/"
        },
        "id": "0OHBrbe9eN11",
        "outputId": "40402e16-ff5b-4e1c-e239-8731fe1ce69e"
      },
      "outputs": [
        {
          "name": "stdout",
          "output_type": "stream",
          "text": [
            "<class 'pandas.core.frame.DataFrame'>\n",
            "Int64Index: 1817 entries, 0 to 2996\n",
            "Data columns (total 2 columns):\n",
            " #   Column  Non-Null Count  Dtype  \n",
            "---  ------  --------------  -----  \n",
            " 0   text    1817 non-null   object \n",
            " 1   sinal   1817 non-null   float64\n",
            "dtypes: float64(1), object(1)\n",
            "memory usage: 42.6+ KB\n"
          ]
        }
      ],
      "source": [
        "data.info()"
      ]
    },
    {
      "cell_type": "code",
      "execution_count": null,
      "metadata": {
        "id": "dGya7AOlenRu"
      },
      "outputs": [],
      "source": [
        "#Acrescentando o valor 2 para identificar os neutros\n",
        "data ['sinal'] = data ['sinal']. fillna (2)"
      ]
    },
    {
      "cell_type": "code",
      "execution_count": null,
      "metadata": {
        "colab": {
          "base_uri": "https://localhost:8080/",
          "height": 444
        },
        "id": "FK0FDzmGe9Bf",
        "outputId": "88f126fa-577f-4e3c-af01-a8020b3fee19"
      },
      "outputs": [
        {
          "name": "stderr",
          "output_type": "stream",
          "text": [
            "/usr/local/lib/python3.7/dist-packages/seaborn/_decorators.py:43: FutureWarning: Pass the following variable as a keyword arg: x. From version 0.12, the only valid positional argument will be `data`, and passing other arguments without an explicit keyword will result in an error or misinterpretation.\n",
            "  FutureWarning\n"
          ]
        },
        {
          "data": {
            "image/png": "[encoded data removed]",
            "text/plain": [
              "<Figure size 576x432 with 1 Axes>"
            ]
          },
          "metadata": {
            "needs_background": "light"
          },
          "output_type": "display_data"
        }
      ],
      "source": [
        "plt.figure(figsize=(8,6))\n",
        "sns.countplot(data['sinal'])\n",
        "plt.show()"
      ]
    },
    {
      "cell_type": "code",
      "execution_count": null,
      "metadata": {
        "colab": {
          "base_uri": "https://localhost:8080/"
        },
        "id": "apuwX2cofNVa",
        "outputId": "062eba30-69fe-4a9b-ec6d-980bfd38ea9e"
      },
      "outputs": [
        {
          "name": "stderr",
          "output_type": "stream",
          "text": [
            "[nltk_data] Downloading package stopwords to /root/nltk_data...\n",
            "[nltk_data]   Unzipping corpora/stopwords.zip.\n"
          ]
        }
      ],
      "source": [
        "# importando a lista da nltk\n",
        "nltk.download('stopwords')\n",
        "from nltk.corpus import stopwords\n",
        "\n",
        "stopwords_pt = stopwords.words(\"portuguese\")"
      ]
    },
    {
      "cell_type": "code",
      "execution_count": null,
      "metadata": {
        "id": "pY6lXimGfRSB"
      },
      "outputs": [],
      "source": [
        "# remove 'nao' e 'nem' da lista\n",
        "stopwords_pt.remove('não')\n",
        "stopwords_pt.remove('nem')"
      ]
    },
    {
      "cell_type": "code",
      "execution_count": null,
      "metadata": {
        "colab": {
          "base_uri": "https://localhost:8080/"
        },
        "id": "bpOx_P34fUBr",
        "outputId": "0b7f2324-6094-477c-b6c8-37d15f570afb"
      },
      "outputs": [
        {
          "name": "stdout",
          "output_type": "stream",
          "text": [
            "\u001b[38;5;2m✔ Download and installation successful\u001b[0m\n",
            "You can now load the package via spacy.load('pt_core_news_sm')\n"
          ]
        }
      ],
      "source": [
        "import spacy.cli\n",
        "spacy.cli.download(\"pt_core_news_sm\")"
      ]
    },
    {
      "cell_type": "code",
      "execution_count": null,
      "metadata": {
        "colab": {
          "base_uri": "https://localhost:8080/"
        },
        "id": "KkvB3tiBfXzJ",
        "outputId": "622a3b2b-d489-4fc9-e94f-0cd2422023da"
      },
      "outputs": [
        {
          "name": "stderr",
          "output_type": "stream",
          "text": [
            "/usr/local/lib/python3.7/dist-packages/spacy/language.py:1899: UserWarning: [W123] Argument disable with value [] is used instead of ['senter'] as specified in the config. Be aware that this might affect other components in your pipeline.\n",
            "  config_value=config[\"nlp\"][key],\n"
          ]
        }
      ],
      "source": [
        "import pt_core_news_sm\n",
        "\n",
        "spc_pt = pt_core_news_sm.load()"
      ]
    },
    {
      "cell_type": "code",
      "execution_count": null,
      "metadata": {
        "id": "QhsB6csNfdhz"
      },
      "outputs": [],
      "source": [
        "def limpa_texto(texto):\n",
        "  '''(str) -> str\n",
        "  Essa funcao recebe uma string, deixa tudo em minusculo, filtra apenas letras,\n",
        "  retira stopwords, lemmatiza e retorna a string resultante.\n",
        "  '''\n",
        "  texto = texto.lower()\n",
        "\n",
        "  texto = re.sub(r\"[\\W\\d_]+\", \" \", texto)\n",
        "\n",
        "  texto = [pal for pal in texto.split() if pal not in stopwords_pt]\n",
        "\n",
        "  spc_texto = spc_pt(\" \".join(texto))\n",
        "  tokens = [word.lemma_ if word.lemma_ != \"-PRON-\" else word.lower_ for word in spc_texto]\n",
        "\n",
        "  return \" \".join(tokens)"
      ]
    },
    {
      "cell_type": "code",
      "execution_count": null,
      "metadata": {
        "id": "ZAQPlfBdffP8"
      },
      "outputs": [],
      "source": [
        "# Aplica a funcao nas reviews do dataset\n",
        "data['text'] = data['text'].apply(limpa_texto)\n",
        "\n",
        "data = data[data['text'] != '']"
      ]
    },
    {
      "cell_type": "code",
      "execution_count": null,
      "metadata": {
        "id": "TNq0tvsFfsXN"
      },
      "outputs": [],
      "source": [
        "# Importando o CountVectorizer\n",
        "from sklearn.feature_extraction.text import CountVectorizer\n",
        "\n",
        "# Instanciando o CountVectorizer, binary=True faz a codificacao binaria\n",
        "vectorizer = CountVectorizer(binary=True, max_features=5000)\n",
        "\n",
        "texto = data['text']\n",
        "\n",
        "# Vetorizando o texto\n",
        "X_bow = vectorizer.fit_transform(texto)"
      ]
    },
    {
      "cell_type": "code",
      "execution_count": null,
      "metadata": {
        "id": "qi0wG_p9fyPV"
      },
      "outputs": [],
      "source": [
        "# Importando o TfidfVectorizer\n",
        "from sklearn.feature_extraction.text import TfidfVectorizer\n",
        "\n",
        "# Instanciando o TfidfVectorizer\n",
        "tfidf_vect = TfidfVectorizer(max_features=5000)\n",
        "\n",
        "# Vetorizando\n",
        "X_tfidf = tfidf_vect.fit_transform(texto)"
      ]
    },
    {
      "cell_type": "code",
      "execution_count": null,
      "metadata": {
        "id": "bmdYWbVFf10e"
      },
      "outputs": [],
      "source": [
        "from sklearn.model_selection import train_test_split\n",
        "\n",
        "X1_train, X1_test, y1_train, y1_test = train_test_split(X_bow, data['sinal'],\n",
        "                                                        test_size=0.3, random_state = 10)\n",
        "\n",
        "X2_train, X2_test, y2_train, y2_test = train_test_split(X_tfidf, data['sinal'],\n",
        "                                                        test_size=0.3, random_state = 10)"
      ]
    },
    {
      "cell_type": "code",
      "execution_count": null,
      "metadata": {
        "id": "BhYGeU5ff7DO"
      },
      "outputs": [],
      "source": [
        "from sklearn.metrics import accuracy_score, confusion_matrix, f1_score, roc_auc_score, recall_score, precision_score\n",
        "\n",
        "def mostra_metricas(y_true, y_pred):\n",
        "  ''' Função que recebe o y real, o y predito e mostra as\n",
        "  principais metricas.\n",
        "  '''\n",
        "  print(\"Acurácia: \", accuracy_score(y_true, y_pred))\n",
        "  print(\"\\nF1-Score:\", f1_score(y_true, y_pred, average='weighted'))\n",
        "  print(\"\\nRecall:\", recall_score(y_true, y_pred, average='weighted'))\n",
        "  print(\"\\nPrecision:\", precision_score(y_true, y_pred, average='weighted'))\n",
        "  print(\"\\nMatriz de confusão:\")\n",
        "  sns.heatmap(confusion_matrix(y_true, y_pred), annot=True)\n",
        "  plt.show()"
      ]
    },
    {
      "cell_type": "code",
      "execution_count": null,
      "metadata": {
        "id": "O20hQuJkf-bF"
      },
      "outputs": [],
      "source": [
        "#Import knearest neighbors Classifier model\n",
        "from sklearn.neighbors import KNeighborsClassifier\n",
        "\n",
        "#Create KNN Classifier\n",
        "knn = KNeighborsClassifier(n_neighbors=5)\n",
        "\n",
        "#Train the model using the training sets\n",
        "knn.fit(X1_train, y1_train)\n",
        "\n",
        "#Predict the response for test dataset\n",
        "y_pred = knn.predict(X1_test)"
      ]
    },
    {
      "cell_type": "code",
      "execution_count": null,
      "metadata": {
        "colab": {
          "base_uri": "https://localhost:8080/",
          "height": 426
        },
        "id": "nige_-yGgAXl",
        "outputId": "50af70e1-c969-40fd-cbff-b43cfa1c0dd2"
      },
      "outputs": [
        {
          "name": "stdout",
          "output_type": "stream",
          "text": [
            "Acurácia:  0.4267399267399267\n",
            "\n",
            "F1-Score: 0.34825377809532193\n",
            "\n",
            "Recall: 0.4267399267399267\n",
            "\n",
            "Precision: 0.4639650796269407\n",
            "\n",
            "Matriz de confusão:\n"
          ]
        },
        {
          "data": {
            "image/png": "[encoded data removed]",
            "text/plain": [
              "<Figure size 432x288 with 2 Axes>"
            ]
          },
          "metadata": {
            "needs_background": "light"
          },
          "output_type": "display_data"
        }
      ],
      "source": [
        "mostra_metricas(y1_test, y_pred )"
      ]
    },
    {
      "cell_type": "code",
      "execution_count": null,
      "metadata": {
        "id": "yLdMHzzb0J7q"
      },
      "outputs": [],
      "source": [
        "# Importando a regressao logistica da sklearn\n",
        "from sklearn.linear_model import LogisticRegression\n",
        "\n",
        "# Instanciando a reg. logistica\n",
        "reglog = LogisticRegression()\n",
        "\n",
        "# Aplicando o modelo\n",
        "reglog.fit(X1_train, y1_train)\n",
        "\n",
        "# Predicao\n",
        "y1_reglog_pred = reglog.predict(X1_test)"
      ]
    },
    {
      "cell_type": "code",
      "execution_count": null,
      "metadata": {
        "colab": {
          "base_uri": "https://localhost:8080/",
          "height": 426
        },
        "id": "iLqQmmkD0Q9F",
        "outputId": "923ce4aa-31b0-4cf1-f6fa-f8c562879730"
      },
      "outputs": [
        {
          "name": "stdout",
          "output_type": "stream",
          "text": [
            "Acurácia:  0.6007326007326007\n",
            "\n",
            "F1-Score: 0.6004227004348872\n",
            "\n",
            "Recall: 0.6007326007326007\n",
            "\n",
            "Precision: 0.6028257456828885\n",
            "\n",
            "Matriz de confusão:\n"
          ]
        },
        {
          "data": {
            "image/png": "[encoded data removed]",
            "text/plain": [
              "<Figure size 432x288 with 2 Axes>"
            ]
          },
          "metadata": {
            "needs_background": "light"
          },
          "output_type": "display_data"
        }
      ],
      "source": [
        "mostra_metricas(y1_test, y1_reglog_pred)"
      ]
    },
    {
      "cell_type": "code",
      "execution_count": null,
      "metadata": {
        "id": "PnxZDISj0TFV"
      },
      "outputs": [],
      "source": [
        "from sklearn.neural_network import MLPClassifier\n",
        "\n",
        "clf = MLPClassifier(random_state=1, max_iter=300).fit(X1_train, y1_train)\n",
        "\n",
        "clf_pred = clf.predict(X1_test)"
      ]
    },
    {
      "cell_type": "code",
      "execution_count": null,
      "metadata": {
        "colab": {
          "base_uri": "https://localhost:8080/",
          "height": 426
        },
        "id": "fGBqsi5l0wTa",
        "outputId": "4d60943f-ebe8-4e66-9227-2aba1962c519"
      },
      "outputs": [
        {
          "name": "stdout",
          "output_type": "stream",
          "text": [
            "Acurácia:  0.575091575091575\n",
            "\n",
            "F1-Score: 0.5762835177891964\n",
            "\n",
            "Recall: 0.575091575091575\n",
            "\n",
            "Precision: 0.5791403921408632\n",
            "\n",
            "Matriz de confusão:\n"
          ]
        },
        {
          "data": {
            "image/png": "[encoded data removed]",
            "text/plain": [
              "<Figure size 432x288 with 2 Axes>"
            ]
          },
          "metadata": {
            "needs_background": "light"
          },
          "output_type": "display_data"
        }
      ],
      "source": [
        "mostra_metricas(y1_test, clf_pred )"
      ]
    },
    {
      "cell_type": "code",
      "execution_count": null,
      "metadata": {
        "id": "2CJLctAl0zyS"
      },
      "outputs": [],
      "source": [
        "from sklearn.svm import LinearSVC\n",
        "\n",
        "clf = LinearSVC(random_state=0, tol=1e-5)\n",
        "\n",
        "lsvc = clf.fit(X1_train, y1_train)\n",
        "\n",
        "lsvc_pred = lsvc.predict(X1_test)"
      ]
    },
    {
      "cell_type": "code",
      "execution_count": null,
      "metadata": {
        "colab": {
          "base_uri": "https://localhost:8080/",
          "height": 426
        },
        "id": "l1wx570M02fi",
        "outputId": "00499a09-7ad1-4e99-9bbe-cae4dfad4173"
      },
      "outputs": [
        {
          "name": "stdout",
          "output_type": "stream",
          "text": [
            "Acurácia:  0.5677655677655677\n",
            "\n",
            "F1-Score: 0.568294031872374\n",
            "\n",
            "Recall: 0.5677655677655677\n",
            "\n",
            "Precision: 0.5703847581201148\n",
            "\n",
            "Matriz de confusão:\n"
          ]
        },
        {
          "data": {
            "image/png": "[encoded data removed]",
            "text/plain": [
              "<Figure size 432x288 with 2 Axes>"
            ]
          },
          "metadata": {
            "needs_background": "light"
          },
          "output_type": "display_data"
        }
      ],
      "source": [
        "mostra_metricas(y1_test, lsvc_pred )"
      ]
    },
    {
      "cell_type": "code",
      "execution_count": null,
      "metadata": {
        "id": "7MfpJY7F5rfJ"
      },
      "outputs": [],
      "source": [
        "reglog2 = LogisticRegression()\n",
        "reglog2.fit(X2_train, y2_train)\n",
        "y2_reglog_pred = reglog2.predict(X2_test)"
      ]
    },
    {
      "cell_type": "code",
      "execution_count": null,
      "metadata": {
        "colab": {
          "base_uri": "https://localhost:8080/",
          "height": 426
        },
        "id": "hr2MN65Z5uA5",
        "outputId": "59849e75-2e3a-4e0e-a98d-1aeb728f696c"
      },
      "outputs": [
        {
          "name": "stdout",
          "output_type": "stream",
          "text": [
            "Acurácia:  0.6318681318681318\n",
            "\n",
            "F1-Score: 0.6190765486932733\n",
            "\n",
            "Recall: 0.6318681318681318\n",
            "\n",
            "Precision: 0.6274701146152596\n",
            "\n",
            "Matriz de confusão:\n"
          ]
        },
        {
          "data": {
            "image/png": "[encoded data removed]",
            "text/plain": [
              "<Figure size 432x288 with 2 Axes>"
            ]
          },
          "metadata": {
            "needs_background": "light"
          },
          "output_type": "display_data"
        }
      ],
      "source": [
        "mostra_metricas(y2_test, y2_reglog_pred)"
      ]
    },
    {
      "cell_type": "code",
      "execution_count": null,
      "metadata": {
        "id": "-Ju0YJm26YZQ"
      },
      "outputs": [],
      "source": [
        "def nova_predicao(texto):\n",
        "  '''Funcao que recebe uma string e printa a predicao feita\n",
        "  pelo modelo reglog2.'''\n",
        "  texto_vetorizado = tfidf_vect.transform([texto])\n",
        "  pred = reglog2.predict(texto_vetorizado)\n",
        "\n",
        "  if pred == 0:\n",
        "    print(\"Negativo.\")\n",
        "  elif pred == 1:\n",
        "    print(\"Positivo.\")\n",
        "  elif pred == 2:\n",
        "    print(\"Neutro.\")\n",
        "  else:\n",
        "    print(\"Não sei\")"
      ]
    },
    {
      "cell_type": "code",
      "execution_count": null,
      "metadata": {
        "colab": {
          "base_uri": "https://localhost:8080/"
        },
        "id": "VZVEyTUL607a",
        "outputId": "fea8f0c6-5024-41cd-f565-cee4122726f5"
      },
      "outputs": [
        {
          "name": "stdout",
          "output_type": "stream",
          "text": [
            "Positivo.\n"
          ]
        }
      ],
      "source": [
        "nova_predicao(\"@EdegarPretto O meu candidato vice-governador é o @PedroRuasPsol fundador trabalhismo e defensor da escola integral de Leonel Bri\")"
      ]
    },
    {
      "cell_type": "code",
      "execution_count": null,
      "metadata": {
        "colab": {
          "base_uri": "https://localhost:8080/"
        },
        "id": "myk4jtB88fkz",
        "outputId": "c58ba73f-eb9c-4a16-b113-413493033849"
      },
      "outputs": [
        {
          "name": "stdout",
          "output_type": "stream",
          "text": [
            "Neutro.\n"
          ]
        }
      ],
      "source": [
        "nova_predicao(\"Roberto Argenta lutando contra o pigarro\")"
      ]
    },
    {
      "cell_type": "code",
      "execution_count": null,
      "metadata": {
        "colab": {
          "base_uri": "https://localhost:8080/"
        },
        "id": "66RtV79M8jsy",
        "outputId": "b24e2f43-98d7-4709-80af-81125149e80f"
      },
      "outputs": [
        {
          "name": "stdout",
          "output_type": "stream",
          "text": [
            "Negativo.\n"
          ]
        }
      ],
      "source": [
        "nova_predicao(\"Onix caixa dois confesso não pode falar de corrupção\")"
      ]
    }
  ],
  "metadata": {
    "colab": {
      "provenance": []
    },
    "kernelspec": {
      "display_name": "Python 3.9.13 ('base')",
      "language": "python",
      "name": "python3"
    },
    "language_info": {
      "codemirror_mode": {
        "name": "ipython",
        "version": 3
      },
      "file_extension": ".py",
      "mimetype": "text/x-python",
      "name": "python",
      "nbconvert_exporter": "python",
      "pygments_lexer": "ipython3",
      "version": "3.9.13"
    },
    "vscode": {
      "interpreter": {
        "hash": "ad2bdc8ecc057115af97d19610ffacc2b4e99fae6737bb82f5d7fb13d2f2c186"
      }
    }
  },
  "nbformat": 4,
  "nbformat_minor": 0
}

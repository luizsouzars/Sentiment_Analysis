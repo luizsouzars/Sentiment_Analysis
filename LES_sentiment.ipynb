{
 "cells": [
  {
   "cell_type": "markdown",
   "metadata": {},
   "source": [
    "Referências:\n",
    "\n",
    "https://scikit-learn.org/stable/tutorial/text_analytics/working_with_text_data.html\n",
    "\n",
    "https://scikit-learn.org/stable/modules/generated/sklearn.model_selection.train_test_split.html\n",
    "\n",
    "https://github.com/s-miller/Spam-classification-comparing-Naive-Bayes-vs-random-forest-and-playing-around-with-sklearn-pipeline/blob/master/Spam%20classification%20comparing%20Naive%20Bayes%20vs%20random%20forest%20(and%20playing%20around%20with%20sklearn%20pipelining).ipynb"
   ]
  },
  {
   "cell_type": "code",
   "execution_count": 107,
   "metadata": {},
   "outputs": [],
   "source": [
    "import pandas as pd\n",
    "from nltk.corpus import stopwords\n",
    "from sklearn.feature_extraction.text import CountVectorizer\n",
    "from sklearn.feature_extraction.text import TfidfTransformer\n",
    "from sklearn.metrics import classification_report, confusion_matrix\n",
    "from sklearn.pipeline import Pipeline\n",
    "from sklearn.model_selection import train_test_split\n",
    "import matplotlib.pyplot as plt\n",
    "import seaborn as sns\n",
    "\n",
    "'''Modelos'''\n",
    "from sklearn.svm import SVC\n",
    "from sklearn.naive_bayes import MultinomialNB\n",
    "from sklearn.neighbors import KNeighborsClassifier\n",
    "from sklearn.ensemble import RandomForestClassifier\n",
    "from sklearn.linear_model import LogisticRegression\n",
    "from sklearn.neural_network import MLPClassifier"
   ]
  },
  {
   "cell_type": "code",
   "execution_count": 108,
   "metadata": {},
   "outputs": [],
   "source": [
    "def process_text(txt:str):\n",
    "    '''Função que recebe o tweet e remove stopwords'''\n",
    "    return [word for word in txt.split() if word not in stopwords.words('portuguese')]"
   ]
  },
  {
   "cell_type": "code",
   "execution_count": 109,
   "metadata": {},
   "outputs": [
    {
     "data": {
      "text/html": [
       "<div>\n",
       "<style scoped>\n",
       "    .dataframe tbody tr th:only-of-type {\n",
       "        vertical-align: middle;\n",
       "    }\n",
       "\n",
       "    .dataframe tbody tr th {\n",
       "        vertical-align: top;\n",
       "    }\n",
       "\n",
       "    .dataframe thead th {\n",
       "        text-align: right;\n",
       "    }\n",
       "</style>\n",
       "<table border=\"1\" class=\"dataframe\">\n",
       "  <thead>\n",
       "    <tr style=\"text-align: right;\">\n",
       "      <th></th>\n",
       "      <th>author_id</th>\n",
       "      <th>created_at</th>\n",
       "      <th>id</th>\n",
       "      <th>lang</th>\n",
       "      <th>retweet_count</th>\n",
       "      <th>text</th>\n",
       "      <th>sinal</th>\n",
       "    </tr>\n",
       "  </thead>\n",
       "  <tbody>\n",
       "    <tr>\n",
       "      <th>0</th>\n",
       "      <td>1,46E+18</td>\n",
       "      <td>2022-08-08T01:08:23Z</td>\n",
       "      <td>1,56E+18</td>\n",
       "      <td>pt</td>\n",
       "      <td>45</td>\n",
       "      <td>RT @EdegarPretto O meu candidato vice-governad...</td>\n",
       "      <td>1.0</td>\n",
       "    </tr>\n",
       "    <tr>\n",
       "      <th>1</th>\n",
       "      <td>1,51E+18</td>\n",
       "      <td>2022-08-08T01:08:23Z</td>\n",
       "      <td>1,56E+18</td>\n",
       "      <td>pt</td>\n",
       "      <td>0</td>\n",
       "      <td>Periga o Argenta chamar o Simon pra responder ...</td>\n",
       "      <td>2.0</td>\n",
       "    </tr>\n",
       "    <tr>\n",
       "      <th>2</th>\n",
       "      <td>1,06E+18</td>\n",
       "      <td>2022-08-08T01:08:21Z</td>\n",
       "      <td>1,56E+18</td>\n",
       "      <td>pt</td>\n",
       "      <td>14</td>\n",
       "      <td>RT @WinstonLing Segue o link para assistirem o...</td>\n",
       "      <td>1.0</td>\n",
       "    </tr>\n",
       "    <tr>\n",
       "      <th>3</th>\n",
       "      <td>7,15E+17</td>\n",
       "      <td>2022-08-08T01:08:20Z</td>\n",
       "      <td>1,56E+18</td>\n",
       "      <td>pt</td>\n",
       "      <td>88</td>\n",
       "      <td>RT @EdegarPretto Eu quero dizer aos gaúchos e ...</td>\n",
       "      <td>2.0</td>\n",
       "    </tr>\n",
       "    <tr>\n",
       "      <th>4</th>\n",
       "      <td>1455004730</td>\n",
       "      <td>2022-08-08T01:08:20Z</td>\n",
       "      <td>1,56E+18</td>\n",
       "      <td>pt</td>\n",
       "      <td>0</td>\n",
       "      <td>@wmfigueiredo @evertonvf @bandrs @EduardoLeite...</td>\n",
       "      <td>0.0</td>\n",
       "    </tr>\n",
       "  </tbody>\n",
       "</table>\n",
       "</div>"
      ],
      "text/plain": [
       "    author_id            created_at        id lang  retweet_count  \\\n",
       "0    1,46E+18  2022-08-08T01:08:23Z  1,56E+18   pt             45   \n",
       "1    1,51E+18  2022-08-08T01:08:23Z  1,56E+18   pt              0   \n",
       "2    1,06E+18  2022-08-08T01:08:21Z  1,56E+18   pt             14   \n",
       "3    7,15E+17  2022-08-08T01:08:20Z  1,56E+18   pt             88   \n",
       "4  1455004730  2022-08-08T01:08:20Z  1,56E+18   pt              0   \n",
       "\n",
       "                                                text  sinal  \n",
       "0  RT @EdegarPretto O meu candidato vice-governad...    1.0  \n",
       "1  Periga o Argenta chamar o Simon pra responder ...    2.0  \n",
       "2  RT @WinstonLing Segue o link para assistirem o...    1.0  \n",
       "3  RT @EdegarPretto Eu quero dizer aos gaúchos e ...    2.0  \n",
       "4  @wmfigueiredo @evertonvf @bandrs @EduardoLeite...    0.0  "
      ]
     },
     "execution_count": 109,
     "metadata": {},
     "output_type": "execute_result"
    }
   ],
   "source": [
    "tt = pd.read_csv('DebateGovRS_Anotado.xlsx - DebateGovRS_Anotado.csv').fillna(2)\n",
    "tt.head()"
   ]
  },
  {
   "cell_type": "code",
   "execution_count": 110,
   "metadata": {},
   "outputs": [
    {
     "data": {
      "text/html": [
       "<div>\n",
       "<style scoped>\n",
       "    .dataframe tbody tr th:only-of-type {\n",
       "        vertical-align: middle;\n",
       "    }\n",
       "\n",
       "    .dataframe tbody tr th {\n",
       "        vertical-align: top;\n",
       "    }\n",
       "\n",
       "    .dataframe thead th {\n",
       "        text-align: right;\n",
       "    }\n",
       "</style>\n",
       "<table border=\"1\" class=\"dataframe\">\n",
       "  <thead>\n",
       "    <tr style=\"text-align: right;\">\n",
       "      <th></th>\n",
       "      <th>author_id</th>\n",
       "      <th>created_at</th>\n",
       "      <th>id</th>\n",
       "      <th>lang</th>\n",
       "      <th>retweet_count</th>\n",
       "      <th>text</th>\n",
       "      <th>sinal</th>\n",
       "    </tr>\n",
       "  </thead>\n",
       "  <tbody>\n",
       "    <tr>\n",
       "      <th>0</th>\n",
       "      <td>1,46E+18</td>\n",
       "      <td>2022-08-08T01:08:23Z</td>\n",
       "      <td>1,56E+18</td>\n",
       "      <td>pt</td>\n",
       "      <td>45</td>\n",
       "      <td>RT @EdegarPretto O meu candidato vice-governad...</td>\n",
       "      <td>1.0</td>\n",
       "    </tr>\n",
       "    <tr>\n",
       "      <th>1</th>\n",
       "      <td>1,51E+18</td>\n",
       "      <td>2022-08-08T01:08:23Z</td>\n",
       "      <td>1,56E+18</td>\n",
       "      <td>pt</td>\n",
       "      <td>0</td>\n",
       "      <td>Periga o Argenta chamar o Simon pra responder ...</td>\n",
       "      <td>2.0</td>\n",
       "    </tr>\n",
       "    <tr>\n",
       "      <th>2</th>\n",
       "      <td>1,06E+18</td>\n",
       "      <td>2022-08-08T01:08:21Z</td>\n",
       "      <td>1,56E+18</td>\n",
       "      <td>pt</td>\n",
       "      <td>14</td>\n",
       "      <td>RT @WinstonLing Segue o link para assistirem o...</td>\n",
       "      <td>1.0</td>\n",
       "    </tr>\n",
       "    <tr>\n",
       "      <th>3</th>\n",
       "      <td>7,15E+17</td>\n",
       "      <td>2022-08-08T01:08:20Z</td>\n",
       "      <td>1,56E+18</td>\n",
       "      <td>pt</td>\n",
       "      <td>88</td>\n",
       "      <td>RT @EdegarPretto Eu quero dizer aos gaúchos e ...</td>\n",
       "      <td>2.0</td>\n",
       "    </tr>\n",
       "    <tr>\n",
       "      <th>4</th>\n",
       "      <td>1455004730</td>\n",
       "      <td>2022-08-08T01:08:20Z</td>\n",
       "      <td>1,56E+18</td>\n",
       "      <td>pt</td>\n",
       "      <td>0</td>\n",
       "      <td>@wmfigueiredo @evertonvf @bandrs @EduardoLeite...</td>\n",
       "      <td>0.0</td>\n",
       "    </tr>\n",
       "  </tbody>\n",
       "</table>\n",
       "</div>"
      ],
      "text/plain": [
       "    author_id            created_at        id lang  retweet_count  \\\n",
       "0    1,46E+18  2022-08-08T01:08:23Z  1,56E+18   pt             45   \n",
       "1    1,51E+18  2022-08-08T01:08:23Z  1,56E+18   pt              0   \n",
       "2    1,06E+18  2022-08-08T01:08:21Z  1,56E+18   pt             14   \n",
       "3    7,15E+17  2022-08-08T01:08:20Z  1,56E+18   pt             88   \n",
       "4  1455004730  2022-08-08T01:08:20Z  1,56E+18   pt              0   \n",
       "\n",
       "                                                text  sinal  \n",
       "0  RT @EdegarPretto O meu candidato vice-governad...    1.0  \n",
       "1  Periga o Argenta chamar o Simon pra responder ...    2.0  \n",
       "2  RT @WinstonLing Segue o link para assistirem o...    1.0  \n",
       "3  RT @EdegarPretto Eu quero dizer aos gaúchos e ...    2.0  \n",
       "4  @wmfigueiredo @evertonvf @bandrs @EduardoLeite...    0.0  "
      ]
     },
     "execution_count": 110,
     "metadata": {},
     "output_type": "execute_result"
    }
   ],
   "source": [
    "'''Seleciona somente os tweets classificados'''\n",
    "tt = tt.loc[tt['sinal'].notna()]\n",
    "tt.head()"
   ]
  },
  {
   "cell_type": "code",
   "execution_count": 111,
   "metadata": {},
   "outputs": [
    {
     "data": {
      "text/plain": [
       "0       rt @edegarpretto o meu candidato vice-governad...\n",
       "1       periga o argenta chamar o simon pra responder ...\n",
       "2       rt @winstonling segue o link para assistirem o...\n",
       "3       rt @edegarpretto eu quero dizer aos gauchos e ...\n",
       "4       @wmfigueiredo @evertonvf @bandrs @eduardoleite...\n",
       "                              ...                        \n",
       "2995    rt @josenery53 @sigapepevargas @dilmaresiste @...\n",
       "2996                            @onyxlorenzoni realmente \n",
       "2997    rt @bandrs band mantem tradicao e realiza o pr...\n",
       "2998    rt @edegarpretto o debate comecou e voce pode ...\n",
       "2999    @edegarpretto tem 51 anos e nasceu em miraguai...\n",
       "Name: text, Length: 3000, dtype: object"
      ]
     },
     "execution_count": 111,
     "metadata": {},
     "output_type": "execute_result"
    }
   ],
   "source": [
    "'''Remove acentos e caracteres especiais / Coloca em minúscula'''\n",
    "tt['text'] = tt['text'].str.lower().str.normalize('NFKD').str.encode('ascii',errors='ignore').str.decode('utf-8')\n",
    "tt['text']"
   ]
  },
  {
   "cell_type": "code",
   "execution_count": 112,
   "metadata": {},
   "outputs": [
    {
     "data": {
      "text/html": [
       "<div>\n",
       "<style scoped>\n",
       "    .dataframe tbody tr th:only-of-type {\n",
       "        vertical-align: middle;\n",
       "    }\n",
       "\n",
       "    .dataframe tbody tr th {\n",
       "        vertical-align: top;\n",
       "    }\n",
       "\n",
       "    .dataframe thead th {\n",
       "        text-align: right;\n",
       "    }\n",
       "</style>\n",
       "<table border=\"1\" class=\"dataframe\">\n",
       "  <thead>\n",
       "    <tr style=\"text-align: right;\">\n",
       "      <th></th>\n",
       "      <th>author_id</th>\n",
       "      <th>created_at</th>\n",
       "      <th>id</th>\n",
       "      <th>lang</th>\n",
       "      <th>retweet_count</th>\n",
       "      <th>text</th>\n",
       "      <th>sinal</th>\n",
       "    </tr>\n",
       "  </thead>\n",
       "  <tbody>\n",
       "    <tr>\n",
       "      <th>0</th>\n",
       "      <td>1,46E+18</td>\n",
       "      <td>2022-08-08T01:08:23Z</td>\n",
       "      <td>1,56E+18</td>\n",
       "      <td>pt</td>\n",
       "      <td>45</td>\n",
       "      <td>o meu candidato vice-governador e o  fundador...</td>\n",
       "      <td>1.0</td>\n",
       "    </tr>\n",
       "    <tr>\n",
       "      <th>1</th>\n",
       "      <td>1,51E+18</td>\n",
       "      <td>2022-08-08T01:08:23Z</td>\n",
       "      <td>1,56E+18</td>\n",
       "      <td>pt</td>\n",
       "      <td>0</td>\n",
       "      <td>periga o argenta chamar o simon pra responder ...</td>\n",
       "      <td>2.0</td>\n",
       "    </tr>\n",
       "    <tr>\n",
       "      <th>2</th>\n",
       "      <td>1,06E+18</td>\n",
       "      <td>2022-08-08T01:08:21Z</td>\n",
       "      <td>1,56E+18</td>\n",
       "      <td>pt</td>\n",
       "      <td>14</td>\n",
       "      <td>segue o link para assistirem o debate de hoje...</td>\n",
       "      <td>1.0</td>\n",
       "    </tr>\n",
       "    <tr>\n",
       "      <th>3</th>\n",
       "      <td>7,15E+17</td>\n",
       "      <td>2022-08-08T01:08:20Z</td>\n",
       "      <td>1,56E+18</td>\n",
       "      <td>pt</td>\n",
       "      <td>88</td>\n",
       "      <td>eu quero dizer aos gauchos e gauchas que se e...</td>\n",
       "      <td>2.0</td>\n",
       "    </tr>\n",
       "    <tr>\n",
       "      <th>4</th>\n",
       "      <td>1455004730</td>\n",
       "      <td>2022-08-08T01:08:20Z</td>\n",
       "      <td>1,56E+18</td>\n",
       "      <td>pt</td>\n",
       "      <td>0</td>\n",
       "      <td>aos que gostam governador atual quando for...</td>\n",
       "      <td>0.0</td>\n",
       "    </tr>\n",
       "    <tr>\n",
       "      <th>...</th>\n",
       "      <td>...</td>\n",
       "      <td>...</td>\n",
       "      <td>...</td>\n",
       "      <td>...</td>\n",
       "      <td>...</td>\n",
       "      <td>...</td>\n",
       "      <td>...</td>\n",
       "    </tr>\n",
       "    <tr>\n",
       "      <th>2995</th>\n",
       "      <td>1,46E+18</td>\n",
       "      <td>2022-08-08T00:00:05Z</td>\n",
       "      <td>1,56E+18</td>\n",
       "      <td>und</td>\n",
       "      <td>1</td>\n",
       "      <td>13</td>\n",
       "      <td>2.0</td>\n",
       "    </tr>\n",
       "    <tr>\n",
       "      <th>2996</th>\n",
       "      <td>1,37E+18</td>\n",
       "      <td>2022-08-08T00:00:05Z</td>\n",
       "      <td>1,56E+18</td>\n",
       "      <td>pt</td>\n",
       "      <td>0</td>\n",
       "      <td>realmente</td>\n",
       "      <td>2.0</td>\n",
       "    </tr>\n",
       "    <tr>\n",
       "      <th>2997</th>\n",
       "      <td>1,19E+18</td>\n",
       "      <td>2022-08-08T00:00:04Z</td>\n",
       "      <td>1,56E+18</td>\n",
       "      <td>pt</td>\n",
       "      <td>244</td>\n",
       "      <td>band mantem tradicao e realiza o primeiro deb...</td>\n",
       "      <td>2.0</td>\n",
       "    </tr>\n",
       "    <tr>\n",
       "      <th>2998</th>\n",
       "      <td>54790300</td>\n",
       "      <td>2022-08-08T00:00:01Z</td>\n",
       "      <td>1,56E+18</td>\n",
       "      <td>pt</td>\n",
       "      <td>20</td>\n",
       "      <td>o debate comecou e voce pode acompanhar todos...</td>\n",
       "      <td>2.0</td>\n",
       "    </tr>\n",
       "    <tr>\n",
       "      <th>2999</th>\n",
       "      <td>67051856</td>\n",
       "      <td>2022-08-08T00:00:00Z</td>\n",
       "      <td>1,56E+18</td>\n",
       "      <td>pt</td>\n",
       "      <td>0</td>\n",
       "      <td>tem 51 anos e nasceu em miraguai na regiao ce...</td>\n",
       "      <td>2.0</td>\n",
       "    </tr>\n",
       "  </tbody>\n",
       "</table>\n",
       "<p>3000 rows × 7 columns</p>\n",
       "</div>"
      ],
      "text/plain": [
       "       author_id            created_at        id lang  retweet_count  \\\n",
       "0       1,46E+18  2022-08-08T01:08:23Z  1,56E+18   pt             45   \n",
       "1       1,51E+18  2022-08-08T01:08:23Z  1,56E+18   pt              0   \n",
       "2       1,06E+18  2022-08-08T01:08:21Z  1,56E+18   pt             14   \n",
       "3       7,15E+17  2022-08-08T01:08:20Z  1,56E+18   pt             88   \n",
       "4     1455004730  2022-08-08T01:08:20Z  1,56E+18   pt              0   \n",
       "...          ...                   ...       ...  ...            ...   \n",
       "2995    1,46E+18  2022-08-08T00:00:05Z  1,56E+18  und              1   \n",
       "2996    1,37E+18  2022-08-08T00:00:05Z  1,56E+18   pt              0   \n",
       "2997    1,19E+18  2022-08-08T00:00:04Z  1,56E+18   pt            244   \n",
       "2998    54790300  2022-08-08T00:00:01Z  1,56E+18   pt             20   \n",
       "2999    67051856  2022-08-08T00:00:00Z  1,56E+18   pt              0   \n",
       "\n",
       "                                                   text  sinal  \n",
       "0      o meu candidato vice-governador e o  fundador...    1.0  \n",
       "1     periga o argenta chamar o simon pra responder ...    2.0  \n",
       "2      segue o link para assistirem o debate de hoje...    1.0  \n",
       "3      eu quero dizer aos gauchos e gauchas que se e...    2.0  \n",
       "4         aos que gostam governador atual quando for...    0.0  \n",
       "...                                                 ...    ...  \n",
       "2995                                                 13    2.0  \n",
       "2996                                         realmente     2.0  \n",
       "2997   band mantem tradicao e realiza o primeiro deb...    2.0  \n",
       "2998   o debate comecou e voce pode acompanhar todos...    2.0  \n",
       "2999   tem 51 anos e nasceu em miraguai na regiao ce...    2.0  \n",
       "\n",
       "[3000 rows x 7 columns]"
      ]
     },
     "execution_count": 112,
     "metadata": {},
     "output_type": "execute_result"
    }
   ],
   "source": [
    "'''Remove '\\n', @, RT, #'''\n",
    "tt['text'] = tt['text'].replace(to_replace=r'\\\\n',value=' ',regex=True)\n",
    "tt['text'] = tt['text'].replace(to_replace=r'(?<!\\w)@[\\w+]{1,100}\\b',value='',regex=True)\n",
    "tt['text'] = tt['text'].replace(to_replace=r'^rt\\s',value='',regex=True)\n",
    "tt['text'] = tt['text'].replace(to_replace=r'(?<!\\w)#[\\w+]{1,100}\\b',value='',regex=True)\n",
    "tt"
   ]
  },
  {
   "cell_type": "code",
   "execution_count": 113,
   "metadata": {},
   "outputs": [],
   "source": [
    "'''Remove espaços desnecessários'''\n",
    "tt['text'] = tt['text'].str.rstrip().str.lstrip().str.replace('  ',' ')"
   ]
  },
  {
   "cell_type": "code",
   "execution_count": 114,
   "metadata": {},
   "outputs": [
    {
     "data": {
      "text/html": [
       "<div>\n",
       "<style scoped>\n",
       "    .dataframe tbody tr th:only-of-type {\n",
       "        vertical-align: middle;\n",
       "    }\n",
       "\n",
       "    .dataframe tbody tr th {\n",
       "        vertical-align: top;\n",
       "    }\n",
       "\n",
       "    .dataframe thead th {\n",
       "        text-align: right;\n",
       "    }\n",
       "</style>\n",
       "<table border=\"1\" class=\"dataframe\">\n",
       "  <thead>\n",
       "    <tr style=\"text-align: right;\">\n",
       "      <th></th>\n",
       "      <th>author_id</th>\n",
       "      <th>created_at</th>\n",
       "      <th>id</th>\n",
       "      <th>lang</th>\n",
       "      <th>retweet_count</th>\n",
       "      <th>text</th>\n",
       "      <th>sinal</th>\n",
       "    </tr>\n",
       "  </thead>\n",
       "  <tbody>\n",
       "    <tr>\n",
       "      <th>0</th>\n",
       "      <td>1,46E+18</td>\n",
       "      <td>2022-08-08T01:08:23Z</td>\n",
       "      <td>1,56E+18</td>\n",
       "      <td>pt</td>\n",
       "      <td>45</td>\n",
       "      <td>o meu candidato vice-governador e o fundador t...</td>\n",
       "      <td>1.0</td>\n",
       "    </tr>\n",
       "    <tr>\n",
       "      <th>1</th>\n",
       "      <td>1,51E+18</td>\n",
       "      <td>2022-08-08T01:08:23Z</td>\n",
       "      <td>1,56E+18</td>\n",
       "      <td>pt</td>\n",
       "      <td>0</td>\n",
       "      <td>periga o argenta chamar o simon pra responder ...</td>\n",
       "      <td>2.0</td>\n",
       "    </tr>\n",
       "    <tr>\n",
       "      <th>2</th>\n",
       "      <td>1,06E+18</td>\n",
       "      <td>2022-08-08T01:08:21Z</td>\n",
       "      <td>1,56E+18</td>\n",
       "      <td>pt</td>\n",
       "      <td>14</td>\n",
       "      <td>segue o link para assistirem o debate de hoje ...</td>\n",
       "      <td>1.0</td>\n",
       "    </tr>\n",
       "    <tr>\n",
       "      <th>3</th>\n",
       "      <td>7,15E+17</td>\n",
       "      <td>2022-08-08T01:08:20Z</td>\n",
       "      <td>1,56E+18</td>\n",
       "      <td>pt</td>\n",
       "      <td>88</td>\n",
       "      <td>eu quero dizer aos gauchos e gauchas que se eu...</td>\n",
       "      <td>2.0</td>\n",
       "    </tr>\n",
       "    <tr>\n",
       "      <th>4</th>\n",
       "      <td>1455004730</td>\n",
       "      <td>2022-08-08T01:08:20Z</td>\n",
       "      <td>1,56E+18</td>\n",
       "      <td>pt</td>\n",
       "      <td>0</td>\n",
       "      <td>aos que gostam governador atual quando forem p...</td>\n",
       "      <td>0.0</td>\n",
       "    </tr>\n",
       "    <tr>\n",
       "      <th>...</th>\n",
       "      <td>...</td>\n",
       "      <td>...</td>\n",
       "      <td>...</td>\n",
       "      <td>...</td>\n",
       "      <td>...</td>\n",
       "      <td>...</td>\n",
       "      <td>...</td>\n",
       "    </tr>\n",
       "    <tr>\n",
       "      <th>2995</th>\n",
       "      <td>1,46E+18</td>\n",
       "      <td>2022-08-08T00:00:05Z</td>\n",
       "      <td>1,56E+18</td>\n",
       "      <td>und</td>\n",
       "      <td>1</td>\n",
       "      <td>13</td>\n",
       "      <td>2.0</td>\n",
       "    </tr>\n",
       "    <tr>\n",
       "      <th>2996</th>\n",
       "      <td>1,37E+18</td>\n",
       "      <td>2022-08-08T00:00:05Z</td>\n",
       "      <td>1,56E+18</td>\n",
       "      <td>pt</td>\n",
       "      <td>0</td>\n",
       "      <td>realmente</td>\n",
       "      <td>2.0</td>\n",
       "    </tr>\n",
       "    <tr>\n",
       "      <th>2997</th>\n",
       "      <td>1,19E+18</td>\n",
       "      <td>2022-08-08T00:00:04Z</td>\n",
       "      <td>1,56E+18</td>\n",
       "      <td>pt</td>\n",
       "      <td>244</td>\n",
       "      <td>band mantem tradicao e realiza o primeiro deba...</td>\n",
       "      <td>2.0</td>\n",
       "    </tr>\n",
       "    <tr>\n",
       "      <th>2998</th>\n",
       "      <td>54790300</td>\n",
       "      <td>2022-08-08T00:00:01Z</td>\n",
       "      <td>1,56E+18</td>\n",
       "      <td>pt</td>\n",
       "      <td>20</td>\n",
       "      <td>o debate comecou e voce pode acompanhar todos ...</td>\n",
       "      <td>2.0</td>\n",
       "    </tr>\n",
       "    <tr>\n",
       "      <th>2999</th>\n",
       "      <td>67051856</td>\n",
       "      <td>2022-08-08T00:00:00Z</td>\n",
       "      <td>1,56E+18</td>\n",
       "      <td>pt</td>\n",
       "      <td>0</td>\n",
       "      <td>tem 51 anos e nasceu em miraguai na regiao cel...</td>\n",
       "      <td>2.0</td>\n",
       "    </tr>\n",
       "  </tbody>\n",
       "</table>\n",
       "<p>2844 rows × 7 columns</p>\n",
       "</div>"
      ],
      "text/plain": [
       "       author_id            created_at        id lang  retweet_count  \\\n",
       "0       1,46E+18  2022-08-08T01:08:23Z  1,56E+18   pt             45   \n",
       "1       1,51E+18  2022-08-08T01:08:23Z  1,56E+18   pt              0   \n",
       "2       1,06E+18  2022-08-08T01:08:21Z  1,56E+18   pt             14   \n",
       "3       7,15E+17  2022-08-08T01:08:20Z  1,56E+18   pt             88   \n",
       "4     1455004730  2022-08-08T01:08:20Z  1,56E+18   pt              0   \n",
       "...          ...                   ...       ...  ...            ...   \n",
       "2995    1,46E+18  2022-08-08T00:00:05Z  1,56E+18  und              1   \n",
       "2996    1,37E+18  2022-08-08T00:00:05Z  1,56E+18   pt              0   \n",
       "2997    1,19E+18  2022-08-08T00:00:04Z  1,56E+18   pt            244   \n",
       "2998    54790300  2022-08-08T00:00:01Z  1,56E+18   pt             20   \n",
       "2999    67051856  2022-08-08T00:00:00Z  1,56E+18   pt              0   \n",
       "\n",
       "                                                   text  sinal  \n",
       "0     o meu candidato vice-governador e o fundador t...    1.0  \n",
       "1     periga o argenta chamar o simon pra responder ...    2.0  \n",
       "2     segue o link para assistirem o debate de hoje ...    1.0  \n",
       "3     eu quero dizer aos gauchos e gauchas que se eu...    2.0  \n",
       "4     aos que gostam governador atual quando forem p...    0.0  \n",
       "...                                                 ...    ...  \n",
       "2995                                                 13    2.0  \n",
       "2996                                          realmente    2.0  \n",
       "2997  band mantem tradicao e realiza o primeiro deba...    2.0  \n",
       "2998  o debate comecou e voce pode acompanhar todos ...    2.0  \n",
       "2999  tem 51 anos e nasceu em miraguai na regiao cel...    2.0  \n",
       "\n",
       "[2844 rows x 7 columns]"
      ]
     },
     "execution_count": 114,
     "metadata": {},
     "output_type": "execute_result"
    }
   ],
   "source": [
    "'''Remove textos vazios'''\n",
    "tt = tt[tt['text']!='']\n",
    "tt"
   ]
  },
  {
   "cell_type": "code",
   "execution_count": 115,
   "metadata": {},
   "outputs": [
    {
     "data": {
      "text/html": [
       "<div>\n",
       "<style scoped>\n",
       "    .dataframe tbody tr th:only-of-type {\n",
       "        vertical-align: middle;\n",
       "    }\n",
       "\n",
       "    .dataframe tbody tr th {\n",
       "        vertical-align: top;\n",
       "    }\n",
       "\n",
       "    .dataframe thead th {\n",
       "        text-align: right;\n",
       "    }\n",
       "</style>\n",
       "<table border=\"1\" class=\"dataframe\">\n",
       "  <thead>\n",
       "    <tr style=\"text-align: right;\">\n",
       "      <th></th>\n",
       "      <th>author_id</th>\n",
       "      <th>created_at</th>\n",
       "      <th>id</th>\n",
       "      <th>lang</th>\n",
       "      <th>retweet_count</th>\n",
       "      <th>text</th>\n",
       "      <th>sinal</th>\n",
       "    </tr>\n",
       "  </thead>\n",
       "  <tbody>\n",
       "    <tr>\n",
       "      <th>0</th>\n",
       "      <td>1,46E+18</td>\n",
       "      <td>2022-08-08T01:08:23Z</td>\n",
       "      <td>1,56E+18</td>\n",
       "      <td>pt</td>\n",
       "      <td>45</td>\n",
       "      <td>o meu candidato vice-governador e o fundador t...</td>\n",
       "      <td>1.0</td>\n",
       "    </tr>\n",
       "    <tr>\n",
       "      <th>1</th>\n",
       "      <td>1,51E+18</td>\n",
       "      <td>2022-08-08T01:08:23Z</td>\n",
       "      <td>1,56E+18</td>\n",
       "      <td>pt</td>\n",
       "      <td>0</td>\n",
       "      <td>periga o argenta chamar o simon pra responder ...</td>\n",
       "      <td>2.0</td>\n",
       "    </tr>\n",
       "    <tr>\n",
       "      <th>2</th>\n",
       "      <td>1,06E+18</td>\n",
       "      <td>2022-08-08T01:08:21Z</td>\n",
       "      <td>1,56E+18</td>\n",
       "      <td>pt</td>\n",
       "      <td>14</td>\n",
       "      <td>segue o link para assistirem o debate de hoje ...</td>\n",
       "      <td>1.0</td>\n",
       "    </tr>\n",
       "    <tr>\n",
       "      <th>3</th>\n",
       "      <td>7,15E+17</td>\n",
       "      <td>2022-08-08T01:08:20Z</td>\n",
       "      <td>1,56E+18</td>\n",
       "      <td>pt</td>\n",
       "      <td>88</td>\n",
       "      <td>eu quero dizer aos gauchos e gauchas que se eu...</td>\n",
       "      <td>2.0</td>\n",
       "    </tr>\n",
       "    <tr>\n",
       "      <th>4</th>\n",
       "      <td>1455004730</td>\n",
       "      <td>2022-08-08T01:08:20Z</td>\n",
       "      <td>1,56E+18</td>\n",
       "      <td>pt</td>\n",
       "      <td>0</td>\n",
       "      <td>aos que gostam governador atual quando forem p...</td>\n",
       "      <td>0.0</td>\n",
       "    </tr>\n",
       "    <tr>\n",
       "      <th>...</th>\n",
       "      <td>...</td>\n",
       "      <td>...</td>\n",
       "      <td>...</td>\n",
       "      <td>...</td>\n",
       "      <td>...</td>\n",
       "      <td>...</td>\n",
       "      <td>...</td>\n",
       "    </tr>\n",
       "    <tr>\n",
       "      <th>1618</th>\n",
       "      <td>17231726</td>\n",
       "      <td>2022-08-08T00:00:15Z</td>\n",
       "      <td>1,56E+18</td>\n",
       "      <td>pt</td>\n",
       "      <td>1</td>\n",
       "      <td>economia solidaria esta incluida nos temas que...</td>\n",
       "      <td>2.0</td>\n",
       "    </tr>\n",
       "    <tr>\n",
       "      <th>1619</th>\n",
       "      <td>17231726</td>\n",
       "      <td>2022-08-08T00:00:11Z</td>\n",
       "      <td>1,56E+18</td>\n",
       "      <td>pt</td>\n",
       "      <td>1</td>\n",
       "      <td>os jovens da roca nao querem ser agricultores ...</td>\n",
       "      <td>2.0</td>\n",
       "    </tr>\n",
       "    <tr>\n",
       "      <th>1620</th>\n",
       "      <td>120241898</td>\n",
       "      <td>2022-08-08T00:00:09Z</td>\n",
       "      <td>1,56E+18</td>\n",
       "      <td>pt</td>\n",
       "      <td>0</td>\n",
       "      <td>uma otima oportunidade para o pessoal conhecer o</td>\n",
       "      <td>2.0</td>\n",
       "    </tr>\n",
       "    <tr>\n",
       "      <th>1621</th>\n",
       "      <td>1,46E+18</td>\n",
       "      <td>2022-08-08T00:00:05Z</td>\n",
       "      <td>1,56E+18</td>\n",
       "      <td>und</td>\n",
       "      <td>1</td>\n",
       "      <td>13</td>\n",
       "      <td>2.0</td>\n",
       "    </tr>\n",
       "    <tr>\n",
       "      <th>1622</th>\n",
       "      <td>1,37E+18</td>\n",
       "      <td>2022-08-08T00:00:05Z</td>\n",
       "      <td>1,56E+18</td>\n",
       "      <td>pt</td>\n",
       "      <td>0</td>\n",
       "      <td>realmente</td>\n",
       "      <td>2.0</td>\n",
       "    </tr>\n",
       "  </tbody>\n",
       "</table>\n",
       "<p>1623 rows × 7 columns</p>\n",
       "</div>"
      ],
      "text/plain": [
       "       author_id            created_at        id lang  retweet_count  \\\n",
       "0       1,46E+18  2022-08-08T01:08:23Z  1,56E+18   pt             45   \n",
       "1       1,51E+18  2022-08-08T01:08:23Z  1,56E+18   pt              0   \n",
       "2       1,06E+18  2022-08-08T01:08:21Z  1,56E+18   pt             14   \n",
       "3       7,15E+17  2022-08-08T01:08:20Z  1,56E+18   pt             88   \n",
       "4     1455004730  2022-08-08T01:08:20Z  1,56E+18   pt              0   \n",
       "...          ...                   ...       ...  ...            ...   \n",
       "1618    17231726  2022-08-08T00:00:15Z  1,56E+18   pt              1   \n",
       "1619    17231726  2022-08-08T00:00:11Z  1,56E+18   pt              1   \n",
       "1620   120241898  2022-08-08T00:00:09Z  1,56E+18   pt              0   \n",
       "1621    1,46E+18  2022-08-08T00:00:05Z  1,56E+18  und              1   \n",
       "1622    1,37E+18  2022-08-08T00:00:05Z  1,56E+18   pt              0   \n",
       "\n",
       "                                                   text  sinal  \n",
       "0     o meu candidato vice-governador e o fundador t...    1.0  \n",
       "1     periga o argenta chamar o simon pra responder ...    2.0  \n",
       "2     segue o link para assistirem o debate de hoje ...    1.0  \n",
       "3     eu quero dizer aos gauchos e gauchas que se eu...    2.0  \n",
       "4     aos que gostam governador atual quando forem p...    0.0  \n",
       "...                                                 ...    ...  \n",
       "1618  economia solidaria esta incluida nos temas que...    2.0  \n",
       "1619  os jovens da roca nao querem ser agricultores ...    2.0  \n",
       "1620   uma otima oportunidade para o pessoal conhecer o    2.0  \n",
       "1621                                                 13    2.0  \n",
       "1622                                          realmente    2.0  \n",
       "\n",
       "[1623 rows x 7 columns]"
      ]
     },
     "execution_count": 115,
     "metadata": {},
     "output_type": "execute_result"
    }
   ],
   "source": [
    "'''Remove registros repetidos'''\n",
    "tt = tt.drop_duplicates(subset=['text'])\n",
    "tt.reset_index(drop=True,inplace=True)\n",
    "tt"
   ]
  },
  {
   "cell_type": "code",
   "execution_count": 116,
   "metadata": {},
   "outputs": [
    {
     "name": "stdout",
     "output_type": "stream",
     "text": [
      "<class 'pandas.core.frame.DataFrame'>\n",
      "RangeIndex: 1623 entries, 0 to 1622\n",
      "Data columns (total 7 columns):\n",
      " #   Column         Non-Null Count  Dtype  \n",
      "---  ------         --------------  -----  \n",
      " 0   author_id      1623 non-null   object \n",
      " 1   created_at     1623 non-null   object \n",
      " 2   id             1623 non-null   object \n",
      " 3   lang           1623 non-null   object \n",
      " 4   retweet_count  1623 non-null   int64  \n",
      " 5   text           1623 non-null   object \n",
      " 6   sinal          1623 non-null   float64\n",
      "dtypes: float64(1), int64(1), object(5)\n",
      "memory usage: 88.9+ KB\n"
     ]
    }
   ],
   "source": [
    "tt.info()"
   ]
  },
  {
   "cell_type": "code",
   "execution_count": 117,
   "metadata": {},
   "outputs": [
    {
     "data": {
      "text/plain": [
       "0.0    643\n",
       "2.0    626\n",
       "1.0    354\n",
       "Name: sinal, dtype: int64"
      ]
     },
     "execution_count": 117,
     "metadata": {},
     "output_type": "execute_result"
    }
   ],
   "source": [
    "tt['sinal'].value_counts()"
   ]
  },
  {
   "cell_type": "code",
   "execution_count": 118,
   "metadata": {},
   "outputs": [],
   "source": [
    "text_train, text_test, sinal_train, sinal_test = train_test_split(tt.text,tt.sinal,test_size=0.3)"
   ]
  },
  {
   "cell_type": "code",
   "execution_count": 119,
   "metadata": {},
   "outputs": [
    {
     "data": {
      "text/plain": [
       "2.0    455\n",
       "0.0    443\n",
       "1.0    238\n",
       "Name: sinal, dtype: int64"
      ]
     },
     "execution_count": 119,
     "metadata": {},
     "output_type": "execute_result"
    }
   ],
   "source": [
    "sinal_train.value_counts()"
   ]
  },
  {
   "cell_type": "code",
   "execution_count": 120,
   "metadata": {},
   "outputs": [
    {
     "data": {
      "text/plain": [
       "0.0    200\n",
       "2.0    171\n",
       "1.0    116\n",
       "Name: sinal, dtype: int64"
      ]
     },
     "execution_count": 120,
     "metadata": {},
     "output_type": "execute_result"
    }
   ],
   "source": [
    "sinal_test.value_counts()"
   ]
  },
  {
   "cell_type": "markdown",
   "metadata": {},
   "source": [
    "# Suppor Vector Classifier\n",
    "___"
   ]
  },
  {
   "cell_type": "code",
   "execution_count": 121,
   "metadata": {},
   "outputs": [],
   "source": [
    "'''Suppor Vector Classifier Pipeline'''\n",
    "svc_pipeline = Pipeline([\n",
    "        ('bow', CountVectorizer(analyzer=process_text)),\n",
    "        ('tfidf', TfidfTransformer()),\n",
    "        ('classifier', SVC())\n",
    "    ])"
   ]
  },
  {
   "cell_type": "code",
   "execution_count": 122,
   "metadata": {},
   "outputs": [],
   "source": [
    "svc_pipeline.fit(text_train,sinal_train)\n",
    "svc_pred = svc_pipeline.predict(text_test)"
   ]
  },
  {
   "cell_type": "code",
   "execution_count": 123,
   "metadata": {},
   "outputs": [
    {
     "data": {
      "image/png": "[encoded data removed]",
      "text/plain": [
       "<Figure size 640x480 with 2 Axes>"
      ]
     },
     "metadata": {},
     "output_type": "display_data"
    },
    {
     "name": "stdout",
     "output_type": "stream",
     "text": [
      "              precision    recall  f1-score   support\n",
      "\n",
      "         0.0       0.74      0.63      0.68       237\n",
      "         1.0       0.28      0.80      0.42        41\n",
      "         2.0       0.63      0.52      0.57       209\n",
      "\n",
      "    accuracy                           0.60       487\n",
      "   macro avg       0.55      0.65      0.56       487\n",
      "weighted avg       0.66      0.60      0.61       487\n",
      "\n"
     ]
    }
   ],
   "source": [
    "'''Confusion matrix'''\n",
    "svc_cm = confusion_matrix(svc_pred,sinal_test)\n",
    "sns.heatmap(svc_cm,annot=True,cmap='vlag',fmt='d',xticklabels=['Neg','Pos','Neu'],yticklabels=['Neg','Pos','Neu']).xaxis.tick_top()\n",
    "plt.show()\n",
    "\n",
    "'''Classification Report'''\n",
    "svc_cr = classification_report(svc_pred,sinal_test)\n",
    "print(svc_cr)"
   ]
  },
  {
   "cell_type": "markdown",
   "metadata": {},
   "source": [
    "# Random Forest\n",
    "___"
   ]
  },
  {
   "cell_type": "code",
   "execution_count": 124,
   "metadata": {},
   "outputs": [],
   "source": [
    "'''Random Forest Pipeline'''\n",
    "rfc_pipeline = Pipeline([\n",
    "        ('bow', CountVectorizer(analyzer=process_text)),\n",
    "        ('tfidf', TfidfTransformer()),\n",
    "        ('classifier', RandomForestClassifier())\n",
    "    ])"
   ]
  },
  {
   "cell_type": "code",
   "execution_count": 125,
   "metadata": {},
   "outputs": [],
   "source": [
    "rfc_pipeline.fit(text_train,sinal_train)\n",
    "rfc_pred = rfc_pipeline.predict(text_test)"
   ]
  },
  {
   "cell_type": "code",
   "execution_count": 126,
   "metadata": {},
   "outputs": [
    {
     "data": {
      "image/png": "[encoded data removed]",
      "text/plain": [
       "<Figure size 640x480 with 2 Axes>"
      ]
     },
     "metadata": {},
     "output_type": "display_data"
    },
    {
     "name": "stdout",
     "output_type": "stream",
     "text": [
      "              precision    recall  f1-score   support\n",
      "\n",
      "         0.0       0.67      0.66      0.66       201\n",
      "         1.0       0.42      0.48      0.45       102\n",
      "         2.0       0.52      0.48      0.50       184\n",
      "\n",
      "    accuracy                           0.56       487\n",
      "   macro avg       0.54      0.54      0.54       487\n",
      "weighted avg       0.56      0.56      0.56       487\n",
      "\n"
     ]
    }
   ],
   "source": [
    "'''Confusion matrix'''\n",
    "rfc_cm = confusion_matrix(rfc_pred,sinal_test)\n",
    "sns.heatmap(rfc_cm,annot=True,cmap='vlag',fmt='d',xticklabels=['Neg','Pos','Neu'],yticklabels=['Neg','Pos','Neu']).xaxis.tick_top()\n",
    "plt.show()\n",
    "\n",
    "'''Classification Report'''\n",
    "rfc_cr = classification_report(rfc_pred,sinal_test)\n",
    "print(rfc_cr)"
   ]
  },
  {
   "cell_type": "markdown",
   "metadata": {},
   "source": [
    "# KNN\n",
    "___"
   ]
  },
  {
   "cell_type": "code",
   "execution_count": 127,
   "metadata": {},
   "outputs": [],
   "source": [
    "'''KNN Pipeline'''\n",
    "knn_pipeline = Pipeline([\n",
    "        ('bow', CountVectorizer(analyzer=process_text)),\n",
    "        ('tfidf', TfidfTransformer()),\n",
    "        ('classifier', KNeighborsClassifier(n_neighbors=5))\n",
    "    ])"
   ]
  },
  {
   "cell_type": "code",
   "execution_count": 128,
   "metadata": {},
   "outputs": [
    {
     "name": "stderr",
     "output_type": "stream",
     "text": [
      "c:\\ProgramData\\Anaconda3\\lib\\site-packages\\sklearn\\neighbors\\_classification.py:228: FutureWarning: Unlike other reduction functions (e.g. `skew`, `kurtosis`), the default behavior of `mode` typically preserves the axis it acts along. In SciPy 1.11.0, this behavior will change: the default value of `keepdims` will become False, the `axis` over which the statistic is taken will be eliminated, and the value None will no longer be accepted. Set `keepdims` to True or False to avoid this warning.\n",
      "  mode, _ = stats.mode(_y[neigh_ind, k], axis=1)\n"
     ]
    }
   ],
   "source": [
    "knn_pipeline.fit(text_train,sinal_train)\n",
    "knn_pred = knn_pipeline.predict(text_test)"
   ]
  },
  {
   "cell_type": "code",
   "execution_count": 129,
   "metadata": {},
   "outputs": [
    {
     "data": {
      "image/png": "[encoded data removed]",
      "text/plain": [
       "<Figure size 640x480 with 2 Axes>"
      ]
     },
     "metadata": {},
     "output_type": "display_data"
    },
    {
     "name": "stdout",
     "output_type": "stream",
     "text": [
      "              precision    recall  f1-score   support\n",
      "\n",
      "         0.0       0.62      0.61      0.62       202\n",
      "         1.0       0.65      0.40      0.49       189\n",
      "         2.0       0.30      0.53      0.38        96\n",
      "\n",
      "    accuracy                           0.51       487\n",
      "   macro avg       0.52      0.51      0.50       487\n",
      "weighted avg       0.57      0.51      0.52       487\n",
      "\n"
     ]
    }
   ],
   "source": [
    "'''Confusion matrix'''\n",
    "knn_cm = confusion_matrix(knn_pred,sinal_test)\n",
    "sns.heatmap(knn_cm,annot=True,cmap='vlag',fmt='d',xticklabels=['Neg','Pos','Neu'],yticklabels=['Neg','Pos','Neu']).xaxis.tick_top()\n",
    "plt.show()\n",
    "\n",
    "'''Classification Report'''\n",
    "knn_cr = classification_report(knn_pred,sinal_test)\n",
    "print(knn_cr)"
   ]
  },
  {
   "cell_type": "markdown",
   "metadata": {},
   "source": [
    "# Logistic Regression\n",
    "___"
   ]
  },
  {
   "cell_type": "code",
   "execution_count": 130,
   "metadata": {},
   "outputs": [],
   "source": [
    "'''Logistic Regression Pipeline'''\n",
    "logReg_pipeline = Pipeline([\n",
    "        ('bow', CountVectorizer(analyzer=process_text)),\n",
    "        ('tfidf', TfidfTransformer()),\n",
    "        ('classifier', LogisticRegression())\n",
    "    ])"
   ]
  },
  {
   "cell_type": "code",
   "execution_count": 131,
   "metadata": {},
   "outputs": [],
   "source": [
    "logReg_pipeline.fit(text_train,sinal_train)\n",
    "logReg_pred = logReg_pipeline.predict(text_test)"
   ]
  },
  {
   "cell_type": "code",
   "execution_count": 132,
   "metadata": {},
   "outputs": [
    {
     "data": {
      "image/png": "[encoded data removed]",
      "text/plain": [
       "<Figure size 640x480 with 2 Axes>"
      ]
     },
     "metadata": {},
     "output_type": "display_data"
    },
    {
     "name": "stdout",
     "output_type": "stream",
     "text": [
      "              precision    recall  f1-score   support\n",
      "\n",
      "         0.0       0.75      0.64      0.69       236\n",
      "         1.0       0.33      0.75      0.46        51\n",
      "         2.0       0.61      0.52      0.56       200\n",
      "\n",
      "    accuracy                           0.60       487\n",
      "   macro avg       0.56      0.63      0.57       487\n",
      "weighted avg       0.65      0.60      0.61       487\n",
      "\n"
     ]
    }
   ],
   "source": [
    "'''Confusion matrix'''\n",
    "logReg_cm = confusion_matrix(logReg_pred,sinal_test)\n",
    "sns.heatmap(logReg_cm,annot=True,cmap='vlag',fmt='d',xticklabels=['Neg','Pos','Neu'],yticklabels=['Neg','Pos','Neu']).xaxis.tick_top()\n",
    "plt.show()\n",
    "\n",
    "'''Classification Report'''\n",
    "logReg_cr = classification_report(logReg_pred,sinal_test)\n",
    "print(logReg_cr)"
   ]
  },
  {
   "cell_type": "markdown",
   "metadata": {},
   "source": [
    "# MLP CLassifier \n",
    "___"
   ]
  },
  {
   "cell_type": "code",
   "execution_count": 133,
   "metadata": {},
   "outputs": [],
   "source": [
    "'''MLP CLassifier Pipeline'''\n",
    "mlp_pipeline = Pipeline([\n",
    "        ('bow', CountVectorizer(analyzer=process_text)),\n",
    "        ('tfidf', TfidfTransformer()),\n",
    "        ('classifier', MLPClassifier(max_iter=300))\n",
    "    ])"
   ]
  },
  {
   "cell_type": "code",
   "execution_count": 134,
   "metadata": {},
   "outputs": [],
   "source": [
    "mlp_pipeline.fit(text_train,sinal_train)\n",
    "mlp_pred = mlp_pipeline.predict(text_test)"
   ]
  },
  {
   "cell_type": "code",
   "execution_count": 135,
   "metadata": {},
   "outputs": [
    {
     "data": {
      "image/png": "[encoded data removed]",
      "text/plain": [
       "<Figure size 640x480 with 2 Axes>"
      ]
     },
     "metadata": {},
     "output_type": "display_data"
    },
    {
     "name": "stdout",
     "output_type": "stream",
     "text": [
      "              precision    recall  f1-score   support\n",
      "\n",
      "         0.0       0.69      0.71      0.70       193\n",
      "         1.0       0.60      0.53      0.56       133\n",
      "         2.0       0.49      0.52      0.51       161\n",
      "\n",
      "    accuracy                           0.60       487\n",
      "   macro avg       0.59      0.59      0.59       487\n",
      "weighted avg       0.60      0.60      0.60       487\n",
      "\n"
     ]
    }
   ],
   "source": [
    "'''Confusion matrix'''\n",
    "mlp_cm = confusion_matrix(mlp_pred,sinal_test)\n",
    "sns.heatmap(mlp_cm,annot=True,cmap='vlag',fmt='d',xticklabels=['Neg','Pos','Neu'],yticklabels=['Neg','Pos','Neu']).xaxis.tick_top()\n",
    "plt.show()\n",
    "\n",
    "'''Classification Report'''\n",
    "mlp_cr = classification_report(mlp_pred,sinal_test)\n",
    "print(mlp_cr)"
   ]
  },
  {
   "cell_type": "markdown",
   "metadata": {},
   "source": [
    "# Naive Bayes\n",
    "___"
   ]
  },
  {
   "cell_type": "code",
   "execution_count": 136,
   "metadata": {},
   "outputs": [],
   "source": [
    "'''MLP CLassifier Pipeline'''\n",
    "mnb_pipeline = Pipeline([\n",
    "        ('bow', CountVectorizer(analyzer=process_text)),\n",
    "        ('tfidf', TfidfTransformer()),\n",
    "        ('classifier', MultinomialNB())\n",
    "    ])"
   ]
  },
  {
   "cell_type": "code",
   "execution_count": 137,
   "metadata": {},
   "outputs": [],
   "source": [
    "mnb_pipeline.fit(text_train,sinal_train)\n",
    "mnb_pred = mnb_pipeline.predict(text_test)"
   ]
  },
  {
   "cell_type": "code",
   "execution_count": 138,
   "metadata": {},
   "outputs": [
    {
     "data": {
      "image/png": "[encoded data removed]",
      "text/plain": [
       "<Figure size 640x480 with 2 Axes>"
      ]
     },
     "metadata": {},
     "output_type": "display_data"
    },
    {
     "name": "stdout",
     "output_type": "stream",
     "text": [
      "              precision    recall  f1-score   support\n",
      "\n",
      "         0.0       0.77      0.63      0.69       244\n",
      "         1.0       0.13      0.75      0.22        20\n",
      "         2.0       0.65      0.50      0.56       223\n",
      "\n",
      "    accuracy                           0.57       487\n",
      "   macro avg       0.52      0.63      0.49       487\n",
      "weighted avg       0.69      0.57      0.61       487\n",
      "\n"
     ]
    }
   ],
   "source": [
    "'''Confusion matrix'''\n",
    "mnb_cm = confusion_matrix(mnb_pred,sinal_test)\n",
    "sns.heatmap(mnb_cm,annot=True,cmap='vlag',fmt='d',xticklabels=['Neg','Pos','Neu'],yticklabels=['Neg','Pos','Neu']).xaxis.tick_top()\n",
    "plt.show()\n",
    "\n",
    "'''Classification Report'''\n",
    "mnb_cr = classification_report(mnb_pred,sinal_test)\n",
    "print(mnb_cr)"
   ]
  }
 ],
 "metadata": {
  "kernelspec": {
   "display_name": "Python 3.9.13 ('base')",
   "language": "python",
   "name": "python3"
  },
  "language_info": {
   "codemirror_mode": {
    "name": "ipython",
    "version": 3
   },
   "file_extension": ".py",
   "mimetype": "text/x-python",
   "name": "python",
   "nbconvert_exporter": "python",
   "pygments_lexer": "ipython3",
   "version": "3.9.13"
  },
  "orig_nbformat": 4,
  "vscode": {
   "interpreter": {
    "hash": "ad2bdc8ecc057115af97d19610ffacc2b4e99fae6737bb82f5d7fb13d2f2c186"
   }
  }
 },
 "nbformat": 4,
 "nbformat_minor": 2
}

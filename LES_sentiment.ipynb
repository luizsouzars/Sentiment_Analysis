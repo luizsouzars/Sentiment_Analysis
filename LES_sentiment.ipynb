{
 "cells": [
  {
   "cell_type": "markdown",
   "metadata": {},
   "source": [
    "Referências:\n",
    "\n",
    "https://scikit-learn.org/stable/tutorial/text_analytics/working_with_text_data.html\n",
    "\n",
    "https://scikit-learn.org/stable/modules/generated/sklearn.model_selection.train_test_split.html\n",
    "\n",
    "https://github.com/s-miller/Spam-classification-comparing-Naive-Bayes-vs-random-forest-and-playing-around-with-sklearn-pipeline/blob/master/Spam%20classification%20comparing%20Naive%20Bayes%20vs%20random%20forest%20(and%20playing%20around%20with%20sklearn%20pipelining).ipynb"
   ]
  },
  {
   "cell_type": "code",
   "execution_count": 246,
   "metadata": {},
   "outputs": [],
   "source": [
    "import pandas as pd\n",
    "from nltk.corpus import stopwords\n",
    "from sklearn.feature_extraction.text import CountVectorizer\n",
    "from sklearn.feature_extraction.text import TfidfTransformer\n",
    "from sklearn.metrics import classification_report, confusion_matrix\n",
    "from sklearn.pipeline import Pipeline\n",
    "from sklearn.model_selection import train_test_split\n",
    "import matplotlib.pyplot as plt\n",
    "import seaborn as sns\n",
    "\n",
    "'''Modelos'''\n",
    "from sklearn.svm import SVC\n",
    "from sklearn.naive_bayes import MultinomialNB\n",
    "from sklearn.neighbors import KNeighborsClassifier\n",
    "from sklearn.ensemble import RandomForestClassifier\n",
    "from sklearn.linear_model import LogisticRegression\n",
    "from sklearn.neural_network import MLPClassifier"
   ]
  },
  {
   "cell_type": "code",
   "execution_count": 247,
   "metadata": {},
   "outputs": [],
   "source": [
    "def process_text(txt:str):\n",
    "    '''Função que recebe o tweet e remove stopwords'''\n",
    "    return [word for word in txt.split() if word not in stopwords.words('portuguese')]"
   ]
  },
  {
   "cell_type": "code",
   "execution_count": 248,
   "metadata": {},
   "outputs": [
    {
     "data": {
      "text/html": [
       "<div>\n",
       "<style scoped>\n",
       "    .dataframe tbody tr th:only-of-type {\n",
       "        vertical-align: middle;\n",
       "    }\n",
       "\n",
       "    .dataframe tbody tr th {\n",
       "        vertical-align: top;\n",
       "    }\n",
       "\n",
       "    .dataframe thead th {\n",
       "        text-align: right;\n",
       "    }\n",
       "</style>\n",
       "<table border=\"1\" class=\"dataframe\">\n",
       "  <thead>\n",
       "    <tr style=\"text-align: right;\">\n",
       "      <th></th>\n",
       "      <th>author_id</th>\n",
       "      <th>created_at</th>\n",
       "      <th>id</th>\n",
       "      <th>lang</th>\n",
       "      <th>retweet_count</th>\n",
       "      <th>text</th>\n",
       "      <th>sinal</th>\n",
       "    </tr>\n",
       "  </thead>\n",
       "  <tbody>\n",
       "    <tr>\n",
       "      <th>0</th>\n",
       "      <td>1,46E+18</td>\n",
       "      <td>2022-08-08T01:08:23Z</td>\n",
       "      <td>1,56E+18</td>\n",
       "      <td>pt</td>\n",
       "      <td>45</td>\n",
       "      <td>RT @EdegarPretto O meu candidato vice-governad...</td>\n",
       "      <td>1.0</td>\n",
       "    </tr>\n",
       "    <tr>\n",
       "      <th>1</th>\n",
       "      <td>1,51E+18</td>\n",
       "      <td>2022-08-08T01:08:23Z</td>\n",
       "      <td>1,56E+18</td>\n",
       "      <td>pt</td>\n",
       "      <td>0</td>\n",
       "      <td>Periga o Argenta chamar o Simon pra responder ...</td>\n",
       "      <td>2.0</td>\n",
       "    </tr>\n",
       "    <tr>\n",
       "      <th>2</th>\n",
       "      <td>1,06E+18</td>\n",
       "      <td>2022-08-08T01:08:21Z</td>\n",
       "      <td>1,56E+18</td>\n",
       "      <td>pt</td>\n",
       "      <td>14</td>\n",
       "      <td>RT @WinstonLing Segue o link para assistirem o...</td>\n",
       "      <td>1.0</td>\n",
       "    </tr>\n",
       "    <tr>\n",
       "      <th>3</th>\n",
       "      <td>7,15E+17</td>\n",
       "      <td>2022-08-08T01:08:20Z</td>\n",
       "      <td>1,56E+18</td>\n",
       "      <td>pt</td>\n",
       "      <td>88</td>\n",
       "      <td>RT @EdegarPretto Eu quero dizer aos gaúchos e ...</td>\n",
       "      <td>2.0</td>\n",
       "    </tr>\n",
       "    <tr>\n",
       "      <th>4</th>\n",
       "      <td>1455004730</td>\n",
       "      <td>2022-08-08T01:08:20Z</td>\n",
       "      <td>1,56E+18</td>\n",
       "      <td>pt</td>\n",
       "      <td>0</td>\n",
       "      <td>@wmfigueiredo @evertonvf @bandrs @EduardoLeite...</td>\n",
       "      <td>0.0</td>\n",
       "    </tr>\n",
       "  </tbody>\n",
       "</table>\n",
       "</div>"
      ],
      "text/plain": [
       "    author_id            created_at        id lang  retweet_count  \\\n",
       "0    1,46E+18  2022-08-08T01:08:23Z  1,56E+18   pt             45   \n",
       "1    1,51E+18  2022-08-08T01:08:23Z  1,56E+18   pt              0   \n",
       "2    1,06E+18  2022-08-08T01:08:21Z  1,56E+18   pt             14   \n",
       "3    7,15E+17  2022-08-08T01:08:20Z  1,56E+18   pt             88   \n",
       "4  1455004730  2022-08-08T01:08:20Z  1,56E+18   pt              0   \n",
       "\n",
       "                                                text  sinal  \n",
       "0  RT @EdegarPretto O meu candidato vice-governad...    1.0  \n",
       "1  Periga o Argenta chamar o Simon pra responder ...    2.0  \n",
       "2  RT @WinstonLing Segue o link para assistirem o...    1.0  \n",
       "3  RT @EdegarPretto Eu quero dizer aos gaúchos e ...    2.0  \n",
       "4  @wmfigueiredo @evertonvf @bandrs @EduardoLeite...    0.0  "
      ]
     },
     "execution_count": 248,
     "metadata": {},
     "output_type": "execute_result"
    }
   ],
   "source": [
    "tt = pd.read_csv('DebateGovRS_Anotado.xlsx - DebateGovRS_Anotado.csv').fillna(2)\n",
    "tt.head()"
   ]
  },
  {
   "cell_type": "code",
   "execution_count": 249,
   "metadata": {},
   "outputs": [
    {
     "data": {
      "text/html": [
       "<div>\n",
       "<style scoped>\n",
       "    .dataframe tbody tr th:only-of-type {\n",
       "        vertical-align: middle;\n",
       "    }\n",
       "\n",
       "    .dataframe tbody tr th {\n",
       "        vertical-align: top;\n",
       "    }\n",
       "\n",
       "    .dataframe thead th {\n",
       "        text-align: right;\n",
       "    }\n",
       "</style>\n",
       "<table border=\"1\" class=\"dataframe\">\n",
       "  <thead>\n",
       "    <tr style=\"text-align: right;\">\n",
       "      <th></th>\n",
       "      <th>author_id</th>\n",
       "      <th>created_at</th>\n",
       "      <th>id</th>\n",
       "      <th>lang</th>\n",
       "      <th>retweet_count</th>\n",
       "      <th>text</th>\n",
       "      <th>sinal</th>\n",
       "    </tr>\n",
       "  </thead>\n",
       "  <tbody>\n",
       "    <tr>\n",
       "      <th>0</th>\n",
       "      <td>1,46E+18</td>\n",
       "      <td>2022-08-08T01:08:23Z</td>\n",
       "      <td>1,56E+18</td>\n",
       "      <td>pt</td>\n",
       "      <td>45</td>\n",
       "      <td>RT @EdegarPretto O meu candidato vice-governad...</td>\n",
       "      <td>1.0</td>\n",
       "    </tr>\n",
       "    <tr>\n",
       "      <th>1</th>\n",
       "      <td>1,51E+18</td>\n",
       "      <td>2022-08-08T01:08:23Z</td>\n",
       "      <td>1,56E+18</td>\n",
       "      <td>pt</td>\n",
       "      <td>0</td>\n",
       "      <td>Periga o Argenta chamar o Simon pra responder ...</td>\n",
       "      <td>2.0</td>\n",
       "    </tr>\n",
       "    <tr>\n",
       "      <th>2</th>\n",
       "      <td>1,06E+18</td>\n",
       "      <td>2022-08-08T01:08:21Z</td>\n",
       "      <td>1,56E+18</td>\n",
       "      <td>pt</td>\n",
       "      <td>14</td>\n",
       "      <td>RT @WinstonLing Segue o link para assistirem o...</td>\n",
       "      <td>1.0</td>\n",
       "    </tr>\n",
       "    <tr>\n",
       "      <th>3</th>\n",
       "      <td>7,15E+17</td>\n",
       "      <td>2022-08-08T01:08:20Z</td>\n",
       "      <td>1,56E+18</td>\n",
       "      <td>pt</td>\n",
       "      <td>88</td>\n",
       "      <td>RT @EdegarPretto Eu quero dizer aos gaúchos e ...</td>\n",
       "      <td>2.0</td>\n",
       "    </tr>\n",
       "    <tr>\n",
       "      <th>4</th>\n",
       "      <td>1455004730</td>\n",
       "      <td>2022-08-08T01:08:20Z</td>\n",
       "      <td>1,56E+18</td>\n",
       "      <td>pt</td>\n",
       "      <td>0</td>\n",
       "      <td>@wmfigueiredo @evertonvf @bandrs @EduardoLeite...</td>\n",
       "      <td>0.0</td>\n",
       "    </tr>\n",
       "  </tbody>\n",
       "</table>\n",
       "</div>"
      ],
      "text/plain": [
       "    author_id            created_at        id lang  retweet_count  \\\n",
       "0    1,46E+18  2022-08-08T01:08:23Z  1,56E+18   pt             45   \n",
       "1    1,51E+18  2022-08-08T01:08:23Z  1,56E+18   pt              0   \n",
       "2    1,06E+18  2022-08-08T01:08:21Z  1,56E+18   pt             14   \n",
       "3    7,15E+17  2022-08-08T01:08:20Z  1,56E+18   pt             88   \n",
       "4  1455004730  2022-08-08T01:08:20Z  1,56E+18   pt              0   \n",
       "\n",
       "                                                text  sinal  \n",
       "0  RT @EdegarPretto O meu candidato vice-governad...    1.0  \n",
       "1  Periga o Argenta chamar o Simon pra responder ...    2.0  \n",
       "2  RT @WinstonLing Segue o link para assistirem o...    1.0  \n",
       "3  RT @EdegarPretto Eu quero dizer aos gaúchos e ...    2.0  \n",
       "4  @wmfigueiredo @evertonvf @bandrs @EduardoLeite...    0.0  "
      ]
     },
     "execution_count": 249,
     "metadata": {},
     "output_type": "execute_result"
    }
   ],
   "source": [
    "'''Seleciona somente os tweets classificados'''\n",
    "tt = tt.loc[tt['sinal'].notna()]\n",
    "tt.head()"
   ]
  },
  {
   "cell_type": "code",
   "execution_count": 250,
   "metadata": {},
   "outputs": [
    {
     "data": {
      "text/html": [
       "<div>\n",
       "<style scoped>\n",
       "    .dataframe tbody tr th:only-of-type {\n",
       "        vertical-align: middle;\n",
       "    }\n",
       "\n",
       "    .dataframe tbody tr th {\n",
       "        vertical-align: top;\n",
       "    }\n",
       "\n",
       "    .dataframe thead th {\n",
       "        text-align: right;\n",
       "    }\n",
       "</style>\n",
       "<table border=\"1\" class=\"dataframe\">\n",
       "  <thead>\n",
       "    <tr style=\"text-align: right;\">\n",
       "      <th></th>\n",
       "      <th>author_id</th>\n",
       "      <th>created_at</th>\n",
       "      <th>id</th>\n",
       "      <th>lang</th>\n",
       "      <th>retweet_count</th>\n",
       "      <th>text</th>\n",
       "      <th>sinal</th>\n",
       "    </tr>\n",
       "  </thead>\n",
       "  <tbody>\n",
       "    <tr>\n",
       "      <th>0</th>\n",
       "      <td>1,46E+18</td>\n",
       "      <td>2022-08-08T01:08:23Z</td>\n",
       "      <td>1,56E+18</td>\n",
       "      <td>pt</td>\n",
       "      <td>45</td>\n",
       "      <td>RT @EdegarPretto O meu candidato vice-governad...</td>\n",
       "      <td>Pos</td>\n",
       "    </tr>\n",
       "    <tr>\n",
       "      <th>1</th>\n",
       "      <td>1,51E+18</td>\n",
       "      <td>2022-08-08T01:08:23Z</td>\n",
       "      <td>1,56E+18</td>\n",
       "      <td>pt</td>\n",
       "      <td>0</td>\n",
       "      <td>Periga o Argenta chamar o Simon pra responder ...</td>\n",
       "      <td>Neu</td>\n",
       "    </tr>\n",
       "    <tr>\n",
       "      <th>2</th>\n",
       "      <td>1,06E+18</td>\n",
       "      <td>2022-08-08T01:08:21Z</td>\n",
       "      <td>1,56E+18</td>\n",
       "      <td>pt</td>\n",
       "      <td>14</td>\n",
       "      <td>RT @WinstonLing Segue o link para assistirem o...</td>\n",
       "      <td>Pos</td>\n",
       "    </tr>\n",
       "    <tr>\n",
       "      <th>3</th>\n",
       "      <td>7,15E+17</td>\n",
       "      <td>2022-08-08T01:08:20Z</td>\n",
       "      <td>1,56E+18</td>\n",
       "      <td>pt</td>\n",
       "      <td>88</td>\n",
       "      <td>RT @EdegarPretto Eu quero dizer aos gaúchos e ...</td>\n",
       "      <td>Neu</td>\n",
       "    </tr>\n",
       "    <tr>\n",
       "      <th>4</th>\n",
       "      <td>1455004730</td>\n",
       "      <td>2022-08-08T01:08:20Z</td>\n",
       "      <td>1,56E+18</td>\n",
       "      <td>pt</td>\n",
       "      <td>0</td>\n",
       "      <td>@wmfigueiredo @evertonvf @bandrs @EduardoLeite...</td>\n",
       "      <td>Neg</td>\n",
       "    </tr>\n",
       "    <tr>\n",
       "      <th>...</th>\n",
       "      <td>...</td>\n",
       "      <td>...</td>\n",
       "      <td>...</td>\n",
       "      <td>...</td>\n",
       "      <td>...</td>\n",
       "      <td>...</td>\n",
       "      <td>...</td>\n",
       "    </tr>\n",
       "    <tr>\n",
       "      <th>2995</th>\n",
       "      <td>1,46E+18</td>\n",
       "      <td>2022-08-08T00:00:05Z</td>\n",
       "      <td>1,56E+18</td>\n",
       "      <td>und</td>\n",
       "      <td>1</td>\n",
       "      <td>RT @josenery53 @SigaPepeVargas @DilmaResiste @...</td>\n",
       "      <td>Neu</td>\n",
       "    </tr>\n",
       "    <tr>\n",
       "      <th>2996</th>\n",
       "      <td>1,37E+18</td>\n",
       "      <td>2022-08-08T00:00:05Z</td>\n",
       "      <td>1,56E+18</td>\n",
       "      <td>pt</td>\n",
       "      <td>0</td>\n",
       "      <td>@onyxlorenzoni Realmente</td>\n",
       "      <td>Neu</td>\n",
       "    </tr>\n",
       "    <tr>\n",
       "      <th>2997</th>\n",
       "      <td>1,19E+18</td>\n",
       "      <td>2022-08-08T00:00:04Z</td>\n",
       "      <td>1,56E+18</td>\n",
       "      <td>pt</td>\n",
       "      <td>244</td>\n",
       "      <td>RT @bandrs Band mantém tradição e realiza o pr...</td>\n",
       "      <td>Neu</td>\n",
       "    </tr>\n",
       "    <tr>\n",
       "      <th>2998</th>\n",
       "      <td>54790300</td>\n",
       "      <td>2022-08-08T00:00:01Z</td>\n",
       "      <td>1,56E+18</td>\n",
       "      <td>pt</td>\n",
       "      <td>20</td>\n",
       "      <td>RT @EdegarPretto O debate começou e você pode ...</td>\n",
       "      <td>Neu</td>\n",
       "    </tr>\n",
       "    <tr>\n",
       "      <th>2999</th>\n",
       "      <td>67051856</td>\n",
       "      <td>2022-08-08T00:00:00Z</td>\n",
       "      <td>1,56E+18</td>\n",
       "      <td>pt</td>\n",
       "      <td>0</td>\n",
       "      <td>@EdegarPretto tem 51 anos e nasceu em Miraguaí...</td>\n",
       "      <td>Neu</td>\n",
       "    </tr>\n",
       "  </tbody>\n",
       "</table>\n",
       "<p>3000 rows × 7 columns</p>\n",
       "</div>"
      ],
      "text/plain": [
       "       author_id            created_at        id lang  retweet_count  \\\n",
       "0       1,46E+18  2022-08-08T01:08:23Z  1,56E+18   pt             45   \n",
       "1       1,51E+18  2022-08-08T01:08:23Z  1,56E+18   pt              0   \n",
       "2       1,06E+18  2022-08-08T01:08:21Z  1,56E+18   pt             14   \n",
       "3       7,15E+17  2022-08-08T01:08:20Z  1,56E+18   pt             88   \n",
       "4     1455004730  2022-08-08T01:08:20Z  1,56E+18   pt              0   \n",
       "...          ...                   ...       ...  ...            ...   \n",
       "2995    1,46E+18  2022-08-08T00:00:05Z  1,56E+18  und              1   \n",
       "2996    1,37E+18  2022-08-08T00:00:05Z  1,56E+18   pt              0   \n",
       "2997    1,19E+18  2022-08-08T00:00:04Z  1,56E+18   pt            244   \n",
       "2998    54790300  2022-08-08T00:00:01Z  1,56E+18   pt             20   \n",
       "2999    67051856  2022-08-08T00:00:00Z  1,56E+18   pt              0   \n",
       "\n",
       "                                                   text sinal  \n",
       "0     RT @EdegarPretto O meu candidato vice-governad...   Pos  \n",
       "1     Periga o Argenta chamar o Simon pra responder ...   Neu  \n",
       "2     RT @WinstonLing Segue o link para assistirem o...   Pos  \n",
       "3     RT @EdegarPretto Eu quero dizer aos gaúchos e ...   Neu  \n",
       "4     @wmfigueiredo @evertonvf @bandrs @EduardoLeite...   Neg  \n",
       "...                                                 ...   ...  \n",
       "2995  RT @josenery53 @SigaPepeVargas @DilmaResiste @...   Neu  \n",
       "2996                          @onyxlorenzoni Realmente    Neu  \n",
       "2997  RT @bandrs Band mantém tradição e realiza o pr...   Neu  \n",
       "2998  RT @EdegarPretto O debate começou e você pode ...   Neu  \n",
       "2999  @EdegarPretto tem 51 anos e nasceu em Miraguaí...   Neu  \n",
       "\n",
       "[3000 rows x 7 columns]"
      ]
     },
     "execution_count": 250,
     "metadata": {},
     "output_type": "execute_result"
    }
   ],
   "source": [
    "tt.loc[tt['sinal'] == 1,'sinal'] = 'Pos'\n",
    "tt.loc[tt['sinal'] == 0,'sinal'] = 'Neg'\n",
    "tt.loc[tt['sinal'] == 2,'sinal'] = 'Neu'\n",
    "tt"
   ]
  },
  {
   "cell_type": "code",
   "execution_count": 251,
   "metadata": {},
   "outputs": [
    {
     "data": {
      "text/plain": [
       "0       rt @edegarpretto o meu candidato vice-governad...\n",
       "1       periga o argenta chamar o simon pra responder ...\n",
       "2       rt @winstonling segue o link para assistirem o...\n",
       "3       rt @edegarpretto eu quero dizer aos gauchos e ...\n",
       "4       @wmfigueiredo @evertonvf @bandrs @eduardoleite...\n",
       "                              ...                        \n",
       "2995    rt @josenery53 @sigapepevargas @dilmaresiste @...\n",
       "2996                            @onyxlorenzoni realmente \n",
       "2997    rt @bandrs band mantem tradicao e realiza o pr...\n",
       "2998    rt @edegarpretto o debate comecou e voce pode ...\n",
       "2999    @edegarpretto tem 51 anos e nasceu em miraguai...\n",
       "Name: text, Length: 3000, dtype: object"
      ]
     },
     "execution_count": 251,
     "metadata": {},
     "output_type": "execute_result"
    }
   ],
   "source": [
    "'''Remove acentos e caracteres especiais / Coloca em minúscula'''\n",
    "tt['text'] = tt['text'].str.lower().str.normalize('NFKD').str.encode('ascii',errors='ignore').str.decode('utf-8')\n",
    "tt['text']"
   ]
  },
  {
   "cell_type": "code",
   "execution_count": 252,
   "metadata": {},
   "outputs": [
    {
     "data": {
      "text/html": [
       "<div>\n",
       "<style scoped>\n",
       "    .dataframe tbody tr th:only-of-type {\n",
       "        vertical-align: middle;\n",
       "    }\n",
       "\n",
       "    .dataframe tbody tr th {\n",
       "        vertical-align: top;\n",
       "    }\n",
       "\n",
       "    .dataframe thead th {\n",
       "        text-align: right;\n",
       "    }\n",
       "</style>\n",
       "<table border=\"1\" class=\"dataframe\">\n",
       "  <thead>\n",
       "    <tr style=\"text-align: right;\">\n",
       "      <th></th>\n",
       "      <th>author_id</th>\n",
       "      <th>created_at</th>\n",
       "      <th>id</th>\n",
       "      <th>lang</th>\n",
       "      <th>retweet_count</th>\n",
       "      <th>text</th>\n",
       "      <th>sinal</th>\n",
       "    </tr>\n",
       "  </thead>\n",
       "  <tbody>\n",
       "    <tr>\n",
       "      <th>0</th>\n",
       "      <td>1,46E+18</td>\n",
       "      <td>2022-08-08T01:08:23Z</td>\n",
       "      <td>1,56E+18</td>\n",
       "      <td>pt</td>\n",
       "      <td>45</td>\n",
       "      <td>o meu candidato vice-governador e o  fundador...</td>\n",
       "      <td>Pos</td>\n",
       "    </tr>\n",
       "    <tr>\n",
       "      <th>1</th>\n",
       "      <td>1,51E+18</td>\n",
       "      <td>2022-08-08T01:08:23Z</td>\n",
       "      <td>1,56E+18</td>\n",
       "      <td>pt</td>\n",
       "      <td>0</td>\n",
       "      <td>periga o argenta chamar o simon pra responder ...</td>\n",
       "      <td>Neu</td>\n",
       "    </tr>\n",
       "    <tr>\n",
       "      <th>2</th>\n",
       "      <td>1,06E+18</td>\n",
       "      <td>2022-08-08T01:08:21Z</td>\n",
       "      <td>1,56E+18</td>\n",
       "      <td>pt</td>\n",
       "      <td>14</td>\n",
       "      <td>segue o link para assistirem o debate de hoje...</td>\n",
       "      <td>Pos</td>\n",
       "    </tr>\n",
       "    <tr>\n",
       "      <th>3</th>\n",
       "      <td>7,15E+17</td>\n",
       "      <td>2022-08-08T01:08:20Z</td>\n",
       "      <td>1,56E+18</td>\n",
       "      <td>pt</td>\n",
       "      <td>88</td>\n",
       "      <td>eu quero dizer aos gauchos e gauchas que se e...</td>\n",
       "      <td>Neu</td>\n",
       "    </tr>\n",
       "    <tr>\n",
       "      <th>4</th>\n",
       "      <td>1455004730</td>\n",
       "      <td>2022-08-08T01:08:20Z</td>\n",
       "      <td>1,56E+18</td>\n",
       "      <td>pt</td>\n",
       "      <td>0</td>\n",
       "      <td>aos que gostam governador atual quando for...</td>\n",
       "      <td>Neg</td>\n",
       "    </tr>\n",
       "    <tr>\n",
       "      <th>...</th>\n",
       "      <td>...</td>\n",
       "      <td>...</td>\n",
       "      <td>...</td>\n",
       "      <td>...</td>\n",
       "      <td>...</td>\n",
       "      <td>...</td>\n",
       "      <td>...</td>\n",
       "    </tr>\n",
       "    <tr>\n",
       "      <th>2995</th>\n",
       "      <td>1,46E+18</td>\n",
       "      <td>2022-08-08T00:00:05Z</td>\n",
       "      <td>1,56E+18</td>\n",
       "      <td>und</td>\n",
       "      <td>1</td>\n",
       "      <td>13</td>\n",
       "      <td>Neu</td>\n",
       "    </tr>\n",
       "    <tr>\n",
       "      <th>2996</th>\n",
       "      <td>1,37E+18</td>\n",
       "      <td>2022-08-08T00:00:05Z</td>\n",
       "      <td>1,56E+18</td>\n",
       "      <td>pt</td>\n",
       "      <td>0</td>\n",
       "      <td>realmente</td>\n",
       "      <td>Neu</td>\n",
       "    </tr>\n",
       "    <tr>\n",
       "      <th>2997</th>\n",
       "      <td>1,19E+18</td>\n",
       "      <td>2022-08-08T00:00:04Z</td>\n",
       "      <td>1,56E+18</td>\n",
       "      <td>pt</td>\n",
       "      <td>244</td>\n",
       "      <td>band mantem tradicao e realiza o primeiro deb...</td>\n",
       "      <td>Neu</td>\n",
       "    </tr>\n",
       "    <tr>\n",
       "      <th>2998</th>\n",
       "      <td>54790300</td>\n",
       "      <td>2022-08-08T00:00:01Z</td>\n",
       "      <td>1,56E+18</td>\n",
       "      <td>pt</td>\n",
       "      <td>20</td>\n",
       "      <td>o debate comecou e voce pode acompanhar todos...</td>\n",
       "      <td>Neu</td>\n",
       "    </tr>\n",
       "    <tr>\n",
       "      <th>2999</th>\n",
       "      <td>67051856</td>\n",
       "      <td>2022-08-08T00:00:00Z</td>\n",
       "      <td>1,56E+18</td>\n",
       "      <td>pt</td>\n",
       "      <td>0</td>\n",
       "      <td>tem 51 anos e nasceu em miraguai na regiao ce...</td>\n",
       "      <td>Neu</td>\n",
       "    </tr>\n",
       "  </tbody>\n",
       "</table>\n",
       "<p>3000 rows × 7 columns</p>\n",
       "</div>"
      ],
      "text/plain": [
       "       author_id            created_at        id lang  retweet_count  \\\n",
       "0       1,46E+18  2022-08-08T01:08:23Z  1,56E+18   pt             45   \n",
       "1       1,51E+18  2022-08-08T01:08:23Z  1,56E+18   pt              0   \n",
       "2       1,06E+18  2022-08-08T01:08:21Z  1,56E+18   pt             14   \n",
       "3       7,15E+17  2022-08-08T01:08:20Z  1,56E+18   pt             88   \n",
       "4     1455004730  2022-08-08T01:08:20Z  1,56E+18   pt              0   \n",
       "...          ...                   ...       ...  ...            ...   \n",
       "2995    1,46E+18  2022-08-08T00:00:05Z  1,56E+18  und              1   \n",
       "2996    1,37E+18  2022-08-08T00:00:05Z  1,56E+18   pt              0   \n",
       "2997    1,19E+18  2022-08-08T00:00:04Z  1,56E+18   pt            244   \n",
       "2998    54790300  2022-08-08T00:00:01Z  1,56E+18   pt             20   \n",
       "2999    67051856  2022-08-08T00:00:00Z  1,56E+18   pt              0   \n",
       "\n",
       "                                                   text sinal  \n",
       "0      o meu candidato vice-governador e o  fundador...   Pos  \n",
       "1     periga o argenta chamar o simon pra responder ...   Neu  \n",
       "2      segue o link para assistirem o debate de hoje...   Pos  \n",
       "3      eu quero dizer aos gauchos e gauchas que se e...   Neu  \n",
       "4         aos que gostam governador atual quando for...   Neg  \n",
       "...                                                 ...   ...  \n",
       "2995                                                 13   Neu  \n",
       "2996                                         realmente    Neu  \n",
       "2997   band mantem tradicao e realiza o primeiro deb...   Neu  \n",
       "2998   o debate comecou e voce pode acompanhar todos...   Neu  \n",
       "2999   tem 51 anos e nasceu em miraguai na regiao ce...   Neu  \n",
       "\n",
       "[3000 rows x 7 columns]"
      ]
     },
     "execution_count": 252,
     "metadata": {},
     "output_type": "execute_result"
    }
   ],
   "source": [
    "'''Remove '\\n', @, RT, #'''\n",
    "tt['text'] = tt['text'].replace(to_replace=r'\\\\n',value=' ',regex=True)\n",
    "tt['text'] = tt['text'].replace(to_replace=r'(?<!\\w)@[\\w+]{1,100}\\b',value='',regex=True)\n",
    "tt['text'] = tt['text'].replace(to_replace=r'^rt\\s',value='',regex=True)\n",
    "tt['text'] = tt['text'].replace(to_replace=r'(?<!\\w)#[\\w+]{1,100}\\b',value='',regex=True)\n",
    "tt"
   ]
  },
  {
   "cell_type": "code",
   "execution_count": 253,
   "metadata": {},
   "outputs": [],
   "source": [
    "'''Remove espaços desnecessários'''\n",
    "tt['text'] = tt['text'].str.rstrip().str.lstrip().str.replace('  ',' ')"
   ]
  },
  {
   "cell_type": "code",
   "execution_count": 254,
   "metadata": {},
   "outputs": [
    {
     "data": {
      "text/html": [
       "<div>\n",
       "<style scoped>\n",
       "    .dataframe tbody tr th:only-of-type {\n",
       "        vertical-align: middle;\n",
       "    }\n",
       "\n",
       "    .dataframe tbody tr th {\n",
       "        vertical-align: top;\n",
       "    }\n",
       "\n",
       "    .dataframe thead th {\n",
       "        text-align: right;\n",
       "    }\n",
       "</style>\n",
       "<table border=\"1\" class=\"dataframe\">\n",
       "  <thead>\n",
       "    <tr style=\"text-align: right;\">\n",
       "      <th></th>\n",
       "      <th>author_id</th>\n",
       "      <th>created_at</th>\n",
       "      <th>id</th>\n",
       "      <th>lang</th>\n",
       "      <th>retweet_count</th>\n",
       "      <th>text</th>\n",
       "      <th>sinal</th>\n",
       "    </tr>\n",
       "  </thead>\n",
       "  <tbody>\n",
       "    <tr>\n",
       "      <th>0</th>\n",
       "      <td>1,46E+18</td>\n",
       "      <td>2022-08-08T01:08:23Z</td>\n",
       "      <td>1,56E+18</td>\n",
       "      <td>pt</td>\n",
       "      <td>45</td>\n",
       "      <td>o meu candidato vice-governador e o fundador t...</td>\n",
       "      <td>Pos</td>\n",
       "    </tr>\n",
       "    <tr>\n",
       "      <th>1</th>\n",
       "      <td>1,51E+18</td>\n",
       "      <td>2022-08-08T01:08:23Z</td>\n",
       "      <td>1,56E+18</td>\n",
       "      <td>pt</td>\n",
       "      <td>0</td>\n",
       "      <td>periga o argenta chamar o simon pra responder ...</td>\n",
       "      <td>Neu</td>\n",
       "    </tr>\n",
       "    <tr>\n",
       "      <th>2</th>\n",
       "      <td>1,06E+18</td>\n",
       "      <td>2022-08-08T01:08:21Z</td>\n",
       "      <td>1,56E+18</td>\n",
       "      <td>pt</td>\n",
       "      <td>14</td>\n",
       "      <td>segue o link para assistirem o debate de hoje ...</td>\n",
       "      <td>Pos</td>\n",
       "    </tr>\n",
       "    <tr>\n",
       "      <th>3</th>\n",
       "      <td>7,15E+17</td>\n",
       "      <td>2022-08-08T01:08:20Z</td>\n",
       "      <td>1,56E+18</td>\n",
       "      <td>pt</td>\n",
       "      <td>88</td>\n",
       "      <td>eu quero dizer aos gauchos e gauchas que se eu...</td>\n",
       "      <td>Neu</td>\n",
       "    </tr>\n",
       "    <tr>\n",
       "      <th>4</th>\n",
       "      <td>1455004730</td>\n",
       "      <td>2022-08-08T01:08:20Z</td>\n",
       "      <td>1,56E+18</td>\n",
       "      <td>pt</td>\n",
       "      <td>0</td>\n",
       "      <td>aos que gostam governador atual quando forem p...</td>\n",
       "      <td>Neg</td>\n",
       "    </tr>\n",
       "    <tr>\n",
       "      <th>...</th>\n",
       "      <td>...</td>\n",
       "      <td>...</td>\n",
       "      <td>...</td>\n",
       "      <td>...</td>\n",
       "      <td>...</td>\n",
       "      <td>...</td>\n",
       "      <td>...</td>\n",
       "    </tr>\n",
       "    <tr>\n",
       "      <th>2995</th>\n",
       "      <td>1,46E+18</td>\n",
       "      <td>2022-08-08T00:00:05Z</td>\n",
       "      <td>1,56E+18</td>\n",
       "      <td>und</td>\n",
       "      <td>1</td>\n",
       "      <td>13</td>\n",
       "      <td>Neu</td>\n",
       "    </tr>\n",
       "    <tr>\n",
       "      <th>2996</th>\n",
       "      <td>1,37E+18</td>\n",
       "      <td>2022-08-08T00:00:05Z</td>\n",
       "      <td>1,56E+18</td>\n",
       "      <td>pt</td>\n",
       "      <td>0</td>\n",
       "      <td>realmente</td>\n",
       "      <td>Neu</td>\n",
       "    </tr>\n",
       "    <tr>\n",
       "      <th>2997</th>\n",
       "      <td>1,19E+18</td>\n",
       "      <td>2022-08-08T00:00:04Z</td>\n",
       "      <td>1,56E+18</td>\n",
       "      <td>pt</td>\n",
       "      <td>244</td>\n",
       "      <td>band mantem tradicao e realiza o primeiro deba...</td>\n",
       "      <td>Neu</td>\n",
       "    </tr>\n",
       "    <tr>\n",
       "      <th>2998</th>\n",
       "      <td>54790300</td>\n",
       "      <td>2022-08-08T00:00:01Z</td>\n",
       "      <td>1,56E+18</td>\n",
       "      <td>pt</td>\n",
       "      <td>20</td>\n",
       "      <td>o debate comecou e voce pode acompanhar todos ...</td>\n",
       "      <td>Neu</td>\n",
       "    </tr>\n",
       "    <tr>\n",
       "      <th>2999</th>\n",
       "      <td>67051856</td>\n",
       "      <td>2022-08-08T00:00:00Z</td>\n",
       "      <td>1,56E+18</td>\n",
       "      <td>pt</td>\n",
       "      <td>0</td>\n",
       "      <td>tem 51 anos e nasceu em miraguai na regiao cel...</td>\n",
       "      <td>Neu</td>\n",
       "    </tr>\n",
       "  </tbody>\n",
       "</table>\n",
       "<p>2844 rows × 7 columns</p>\n",
       "</div>"
      ],
      "text/plain": [
       "       author_id            created_at        id lang  retweet_count  \\\n",
       "0       1,46E+18  2022-08-08T01:08:23Z  1,56E+18   pt             45   \n",
       "1       1,51E+18  2022-08-08T01:08:23Z  1,56E+18   pt              0   \n",
       "2       1,06E+18  2022-08-08T01:08:21Z  1,56E+18   pt             14   \n",
       "3       7,15E+17  2022-08-08T01:08:20Z  1,56E+18   pt             88   \n",
       "4     1455004730  2022-08-08T01:08:20Z  1,56E+18   pt              0   \n",
       "...          ...                   ...       ...  ...            ...   \n",
       "2995    1,46E+18  2022-08-08T00:00:05Z  1,56E+18  und              1   \n",
       "2996    1,37E+18  2022-08-08T00:00:05Z  1,56E+18   pt              0   \n",
       "2997    1,19E+18  2022-08-08T00:00:04Z  1,56E+18   pt            244   \n",
       "2998    54790300  2022-08-08T00:00:01Z  1,56E+18   pt             20   \n",
       "2999    67051856  2022-08-08T00:00:00Z  1,56E+18   pt              0   \n",
       "\n",
       "                                                   text sinal  \n",
       "0     o meu candidato vice-governador e o fundador t...   Pos  \n",
       "1     periga o argenta chamar o simon pra responder ...   Neu  \n",
       "2     segue o link para assistirem o debate de hoje ...   Pos  \n",
       "3     eu quero dizer aos gauchos e gauchas que se eu...   Neu  \n",
       "4     aos que gostam governador atual quando forem p...   Neg  \n",
       "...                                                 ...   ...  \n",
       "2995                                                 13   Neu  \n",
       "2996                                          realmente   Neu  \n",
       "2997  band mantem tradicao e realiza o primeiro deba...   Neu  \n",
       "2998  o debate comecou e voce pode acompanhar todos ...   Neu  \n",
       "2999  tem 51 anos e nasceu em miraguai na regiao cel...   Neu  \n",
       "\n",
       "[2844 rows x 7 columns]"
      ]
     },
     "execution_count": 254,
     "metadata": {},
     "output_type": "execute_result"
    }
   ],
   "source": [
    "'''Remove textos vazios'''\n",
    "tt = tt[tt['text']!='']\n",
    "tt"
   ]
  },
  {
   "cell_type": "code",
   "execution_count": 255,
   "metadata": {},
   "outputs": [
    {
     "data": {
      "text/html": [
       "<div>\n",
       "<style scoped>\n",
       "    .dataframe tbody tr th:only-of-type {\n",
       "        vertical-align: middle;\n",
       "    }\n",
       "\n",
       "    .dataframe tbody tr th {\n",
       "        vertical-align: top;\n",
       "    }\n",
       "\n",
       "    .dataframe thead th {\n",
       "        text-align: right;\n",
       "    }\n",
       "</style>\n",
       "<table border=\"1\" class=\"dataframe\">\n",
       "  <thead>\n",
       "    <tr style=\"text-align: right;\">\n",
       "      <th></th>\n",
       "      <th>author_id</th>\n",
       "      <th>created_at</th>\n",
       "      <th>id</th>\n",
       "      <th>lang</th>\n",
       "      <th>retweet_count</th>\n",
       "      <th>text</th>\n",
       "      <th>sinal</th>\n",
       "    </tr>\n",
       "  </thead>\n",
       "  <tbody>\n",
       "    <tr>\n",
       "      <th>0</th>\n",
       "      <td>1,46E+18</td>\n",
       "      <td>2022-08-08T01:08:23Z</td>\n",
       "      <td>1,56E+18</td>\n",
       "      <td>pt</td>\n",
       "      <td>45</td>\n",
       "      <td>o meu candidato vice-governador e o fundador t...</td>\n",
       "      <td>Pos</td>\n",
       "    </tr>\n",
       "    <tr>\n",
       "      <th>1</th>\n",
       "      <td>1,51E+18</td>\n",
       "      <td>2022-08-08T01:08:23Z</td>\n",
       "      <td>1,56E+18</td>\n",
       "      <td>pt</td>\n",
       "      <td>0</td>\n",
       "      <td>periga o argenta chamar o simon pra responder ...</td>\n",
       "      <td>Neu</td>\n",
       "    </tr>\n",
       "    <tr>\n",
       "      <th>2</th>\n",
       "      <td>1,06E+18</td>\n",
       "      <td>2022-08-08T01:08:21Z</td>\n",
       "      <td>1,56E+18</td>\n",
       "      <td>pt</td>\n",
       "      <td>14</td>\n",
       "      <td>segue o link para assistirem o debate de hoje ...</td>\n",
       "      <td>Pos</td>\n",
       "    </tr>\n",
       "    <tr>\n",
       "      <th>3</th>\n",
       "      <td>7,15E+17</td>\n",
       "      <td>2022-08-08T01:08:20Z</td>\n",
       "      <td>1,56E+18</td>\n",
       "      <td>pt</td>\n",
       "      <td>88</td>\n",
       "      <td>eu quero dizer aos gauchos e gauchas que se eu...</td>\n",
       "      <td>Neu</td>\n",
       "    </tr>\n",
       "    <tr>\n",
       "      <th>4</th>\n",
       "      <td>1455004730</td>\n",
       "      <td>2022-08-08T01:08:20Z</td>\n",
       "      <td>1,56E+18</td>\n",
       "      <td>pt</td>\n",
       "      <td>0</td>\n",
       "      <td>aos que gostam governador atual quando forem p...</td>\n",
       "      <td>Neg</td>\n",
       "    </tr>\n",
       "    <tr>\n",
       "      <th>...</th>\n",
       "      <td>...</td>\n",
       "      <td>...</td>\n",
       "      <td>...</td>\n",
       "      <td>...</td>\n",
       "      <td>...</td>\n",
       "      <td>...</td>\n",
       "      <td>...</td>\n",
       "    </tr>\n",
       "    <tr>\n",
       "      <th>1618</th>\n",
       "      <td>17231726</td>\n",
       "      <td>2022-08-08T00:00:15Z</td>\n",
       "      <td>1,56E+18</td>\n",
       "      <td>pt</td>\n",
       "      <td>1</td>\n",
       "      <td>economia solidaria esta incluida nos temas que...</td>\n",
       "      <td>Neu</td>\n",
       "    </tr>\n",
       "    <tr>\n",
       "      <th>1619</th>\n",
       "      <td>17231726</td>\n",
       "      <td>2022-08-08T00:00:11Z</td>\n",
       "      <td>1,56E+18</td>\n",
       "      <td>pt</td>\n",
       "      <td>1</td>\n",
       "      <td>os jovens da roca nao querem ser agricultores ...</td>\n",
       "      <td>Neu</td>\n",
       "    </tr>\n",
       "    <tr>\n",
       "      <th>1620</th>\n",
       "      <td>120241898</td>\n",
       "      <td>2022-08-08T00:00:09Z</td>\n",
       "      <td>1,56E+18</td>\n",
       "      <td>pt</td>\n",
       "      <td>0</td>\n",
       "      <td>uma otima oportunidade para o pessoal conhecer o</td>\n",
       "      <td>Neu</td>\n",
       "    </tr>\n",
       "    <tr>\n",
       "      <th>1621</th>\n",
       "      <td>1,46E+18</td>\n",
       "      <td>2022-08-08T00:00:05Z</td>\n",
       "      <td>1,56E+18</td>\n",
       "      <td>und</td>\n",
       "      <td>1</td>\n",
       "      <td>13</td>\n",
       "      <td>Neu</td>\n",
       "    </tr>\n",
       "    <tr>\n",
       "      <th>1622</th>\n",
       "      <td>1,37E+18</td>\n",
       "      <td>2022-08-08T00:00:05Z</td>\n",
       "      <td>1,56E+18</td>\n",
       "      <td>pt</td>\n",
       "      <td>0</td>\n",
       "      <td>realmente</td>\n",
       "      <td>Neu</td>\n",
       "    </tr>\n",
       "  </tbody>\n",
       "</table>\n",
       "<p>1623 rows × 7 columns</p>\n",
       "</div>"
      ],
      "text/plain": [
       "       author_id            created_at        id lang  retweet_count  \\\n",
       "0       1,46E+18  2022-08-08T01:08:23Z  1,56E+18   pt             45   \n",
       "1       1,51E+18  2022-08-08T01:08:23Z  1,56E+18   pt              0   \n",
       "2       1,06E+18  2022-08-08T01:08:21Z  1,56E+18   pt             14   \n",
       "3       7,15E+17  2022-08-08T01:08:20Z  1,56E+18   pt             88   \n",
       "4     1455004730  2022-08-08T01:08:20Z  1,56E+18   pt              0   \n",
       "...          ...                   ...       ...  ...            ...   \n",
       "1618    17231726  2022-08-08T00:00:15Z  1,56E+18   pt              1   \n",
       "1619    17231726  2022-08-08T00:00:11Z  1,56E+18   pt              1   \n",
       "1620   120241898  2022-08-08T00:00:09Z  1,56E+18   pt              0   \n",
       "1621    1,46E+18  2022-08-08T00:00:05Z  1,56E+18  und              1   \n",
       "1622    1,37E+18  2022-08-08T00:00:05Z  1,56E+18   pt              0   \n",
       "\n",
       "                                                   text sinal  \n",
       "0     o meu candidato vice-governador e o fundador t...   Pos  \n",
       "1     periga o argenta chamar o simon pra responder ...   Neu  \n",
       "2     segue o link para assistirem o debate de hoje ...   Pos  \n",
       "3     eu quero dizer aos gauchos e gauchas que se eu...   Neu  \n",
       "4     aos que gostam governador atual quando forem p...   Neg  \n",
       "...                                                 ...   ...  \n",
       "1618  economia solidaria esta incluida nos temas que...   Neu  \n",
       "1619  os jovens da roca nao querem ser agricultores ...   Neu  \n",
       "1620   uma otima oportunidade para o pessoal conhecer o   Neu  \n",
       "1621                                                 13   Neu  \n",
       "1622                                          realmente   Neu  \n",
       "\n",
       "[1623 rows x 7 columns]"
      ]
     },
     "execution_count": 255,
     "metadata": {},
     "output_type": "execute_result"
    }
   ],
   "source": [
    "'''Remove registros repetidos'''\n",
    "tt = tt.drop_duplicates(subset=['text'])\n",
    "tt.reset_index(drop=True,inplace=True)\n",
    "tt"
   ]
  },
  {
   "cell_type": "code",
   "execution_count": 256,
   "metadata": {},
   "outputs": [
    {
     "name": "stdout",
     "output_type": "stream",
     "text": [
      "<class 'pandas.core.frame.DataFrame'>\n",
      "RangeIndex: 1623 entries, 0 to 1622\n",
      "Data columns (total 7 columns):\n",
      " #   Column         Non-Null Count  Dtype \n",
      "---  ------         --------------  ----- \n",
      " 0   author_id      1623 non-null   object\n",
      " 1   created_at     1623 non-null   object\n",
      " 2   id             1623 non-null   object\n",
      " 3   lang           1623 non-null   object\n",
      " 4   retweet_count  1623 non-null   int64 \n",
      " 5   text           1623 non-null   object\n",
      " 6   sinal          1623 non-null   object\n",
      "dtypes: int64(1), object(6)\n",
      "memory usage: 88.9+ KB\n"
     ]
    }
   ],
   "source": [
    "tt.info()"
   ]
  },
  {
   "cell_type": "code",
   "execution_count": 257,
   "metadata": {},
   "outputs": [
    {
     "data": {
      "text/plain": [
       "Neg    643\n",
       "Neu    626\n",
       "Pos    354\n",
       "Name: sinal, dtype: int64"
      ]
     },
     "execution_count": 257,
     "metadata": {},
     "output_type": "execute_result"
    }
   ],
   "source": [
    "tt['sinal'].value_counts()"
   ]
  },
  {
   "cell_type": "code",
   "execution_count": 258,
   "metadata": {},
   "outputs": [],
   "source": [
    "text_train, text_test, sinal_train, sinal_test = train_test_split(tt.text,tt.sinal,test_size=0.3)"
   ]
  },
  {
   "cell_type": "code",
   "execution_count": 259,
   "metadata": {},
   "outputs": [
    {
     "data": {
      "text/plain": [
       "Neg    467\n",
       "Neu    426\n",
       "Pos    243\n",
       "Name: sinal, dtype: int64"
      ]
     },
     "execution_count": 259,
     "metadata": {},
     "output_type": "execute_result"
    }
   ],
   "source": [
    "sinal_train.value_counts()"
   ]
  },
  {
   "cell_type": "code",
   "execution_count": 260,
   "metadata": {},
   "outputs": [
    {
     "data": {
      "text/plain": [
       "Neu    200\n",
       "Neg    176\n",
       "Pos    111\n",
       "Name: sinal, dtype: int64"
      ]
     },
     "execution_count": 260,
     "metadata": {},
     "output_type": "execute_result"
    }
   ],
   "source": [
    "sinal_test.value_counts()"
   ]
  },
  {
   "cell_type": "markdown",
   "metadata": {},
   "source": [
    "# Suppor Vector Classifier\n",
    "___"
   ]
  },
  {
   "cell_type": "code",
   "execution_count": 261,
   "metadata": {},
   "outputs": [],
   "source": [
    "'''Suppor Vector Classifier Pipeline'''\n",
    "svc_pipeline = Pipeline([\n",
    "        ('bow', CountVectorizer(analyzer=process_text)),\n",
    "        ('tfidf', TfidfTransformer()),\n",
    "        ('classifier', SVC())\n",
    "    ])"
   ]
  },
  {
   "cell_type": "code",
   "execution_count": 262,
   "metadata": {},
   "outputs": [],
   "source": [
    "svc_pipeline.fit(text_train,sinal_train)\n",
    "svc_pred = svc_pipeline.predict(text_test)"
   ]
  },
  {
   "cell_type": "code",
   "execution_count": 263,
   "metadata": {},
   "outputs": [
    {
     "data": {
      "image/png": "[encoded data removed]",
      "text/plain": [
       "<Figure size 640x480 with 2 Axes>"
      ]
     },
     "metadata": {},
     "output_type": "display_data"
    },
    {
     "name": "stdout",
     "output_type": "stream",
     "text": [
      "              precision    recall  f1-score   support\n",
      "\n",
      "         Neg       0.77      0.54      0.64       251\n",
      "         Neu       0.53      0.55      0.54       194\n",
      "         Pos       0.25      0.67      0.37        42\n",
      "\n",
      "    accuracy                           0.55       487\n",
      "   macro avg       0.52      0.58      0.51       487\n",
      "weighted avg       0.63      0.55      0.57       487\n",
      "\n"
     ]
    }
   ],
   "source": [
    "'''Confusion matrix'''\n",
    "svc_cm = confusion_matrix(svc_pred,sinal_test)\n",
    "sns.heatmap(svc_cm,annot=True,cmap='vlag',fmt='d',xticklabels=['Neg','Pos','Neu'],yticklabels=['Neg','Pos','Neu']).xaxis.tick_top()\n",
    "plt.show()\n",
    "\n",
    "'''Classification Report'''\n",
    "svc_cr = classification_report(svc_pred,sinal_test)\n",
    "print(svc_cr)"
   ]
  },
  {
   "cell_type": "markdown",
   "metadata": {},
   "source": [
    "# Random Forest\n",
    "___"
   ]
  },
  {
   "cell_type": "code",
   "execution_count": 264,
   "metadata": {},
   "outputs": [],
   "source": [
    "'''Random Forest Pipeline'''\n",
    "rfc_pipeline = Pipeline([\n",
    "        ('bow', CountVectorizer(analyzer=process_text)),\n",
    "        ('tfidf', TfidfTransformer()),\n",
    "        ('classifier', RandomForestClassifier())\n",
    "    ])"
   ]
  },
  {
   "cell_type": "code",
   "execution_count": 265,
   "metadata": {},
   "outputs": [],
   "source": [
    "rfc_pipeline.fit(text_train,sinal_train)\n",
    "rfc_pred = rfc_pipeline.predict(text_test)"
   ]
  },
  {
   "cell_type": "code",
   "execution_count": 266,
   "metadata": {},
   "outputs": [
    {
     "data": {
      "image/png": "[encoded data removed]",
      "text/plain": [
       "<Figure size 640x480 with 2 Axes>"
      ]
     },
     "metadata": {},
     "output_type": "display_data"
    },
    {
     "name": "stdout",
     "output_type": "stream",
     "text": [
      "              precision    recall  f1-score   support\n",
      "\n",
      "         Neg       0.66      0.62      0.64       190\n",
      "         Neu       0.48      0.56      0.52       174\n",
      "         Pos       0.44      0.40      0.42       123\n",
      "\n",
      "    accuracy                           0.54       487\n",
      "   macro avg       0.53      0.52      0.53       487\n",
      "weighted avg       0.54      0.54      0.54       487\n",
      "\n"
     ]
    }
   ],
   "source": [
    "'''Confusion matrix'''\n",
    "rfc_cm = confusion_matrix(rfc_pred,sinal_test)\n",
    "sns.heatmap(rfc_cm,annot=True,cmap='vlag',fmt='d',xticklabels=['Neg','Pos','Neu'],yticklabels=['Neg','Pos','Neu']).xaxis.tick_top()\n",
    "plt.show()\n",
    "\n",
    "'''Classification Report'''\n",
    "rfc_cr = classification_report(rfc_pred,sinal_test)\n",
    "print(rfc_cr)"
   ]
  },
  {
   "cell_type": "markdown",
   "metadata": {},
   "source": [
    "# KNN\n",
    "___"
   ]
  },
  {
   "cell_type": "code",
   "execution_count": 267,
   "metadata": {},
   "outputs": [],
   "source": [
    "'''KNN Pipeline'''\n",
    "knn_pipeline = Pipeline([\n",
    "        ('bow', CountVectorizer(analyzer=process_text)),\n",
    "        ('tfidf', TfidfTransformer()),\n",
    "        ('classifier', KNeighborsClassifier(n_neighbors=5))\n",
    "    ])"
   ]
  },
  {
   "cell_type": "code",
   "execution_count": 268,
   "metadata": {},
   "outputs": [
    {
     "name": "stderr",
     "output_type": "stream",
     "text": [
      "c:\\ProgramData\\Anaconda3\\lib\\site-packages\\sklearn\\neighbors\\_classification.py:228: FutureWarning: Unlike other reduction functions (e.g. `skew`, `kurtosis`), the default behavior of `mode` typically preserves the axis it acts along. In SciPy 1.11.0, this behavior will change: the default value of `keepdims` will become False, the `axis` over which the statistic is taken will be eliminated, and the value None will no longer be accepted. Set `keepdims` to True or False to avoid this warning.\n",
      "  mode, _ = stats.mode(_y[neigh_ind, k], axis=1)\n"
     ]
    }
   ],
   "source": [
    "knn_pipeline.fit(text_train,sinal_train)\n",
    "knn_pred = knn_pipeline.predict(text_test)"
   ]
  },
  {
   "cell_type": "code",
   "execution_count": 269,
   "metadata": {},
   "outputs": [
    {
     "data": {
      "image/png": "[encoded data removed]",
      "text/plain": [
       "<Figure size 640x480 with 2 Axes>"
      ]
     },
     "metadata": {},
     "output_type": "display_data"
    },
    {
     "name": "stdout",
     "output_type": "stream",
     "text": [
      "              precision    recall  f1-score   support\n",
      "\n",
      "         Neg       0.62      0.58      0.60       188\n",
      "         Neu       0.44      0.54      0.49       162\n",
      "         Pos       0.46      0.37      0.41       137\n",
      "\n",
      "    accuracy                           0.51       487\n",
      "   macro avg       0.51      0.50      0.50       487\n",
      "weighted avg       0.51      0.51      0.51       487\n",
      "\n"
     ]
    }
   ],
   "source": [
    "'''Confusion matrix'''\n",
    "knn_cm = confusion_matrix(knn_pred,sinal_test)\n",
    "sns.heatmap(knn_cm,annot=True,cmap='vlag',fmt='d',xticklabels=['Neg','Pos','Neu'],yticklabels=['Neg','Pos','Neu']).xaxis.tick_top()\n",
    "plt.show()\n",
    "\n",
    "'''Classification Report'''\n",
    "knn_cr = classification_report(knn_pred,sinal_test)\n",
    "print(knn_cr)"
   ]
  },
  {
   "cell_type": "markdown",
   "metadata": {},
   "source": [
    "# Logistic Regression\n",
    "___"
   ]
  },
  {
   "cell_type": "code",
   "execution_count": 270,
   "metadata": {},
   "outputs": [],
   "source": [
    "'''Logistic Regression Pipeline'''\n",
    "logReg_pipeline = Pipeline([\n",
    "        ('bow', CountVectorizer(analyzer=process_text)),\n",
    "        ('tfidf', TfidfTransformer()),\n",
    "        ('classifier', LogisticRegression())\n",
    "    ])"
   ]
  },
  {
   "cell_type": "code",
   "execution_count": 271,
   "metadata": {},
   "outputs": [],
   "source": [
    "logReg_pipeline.fit(text_train,sinal_train)\n",
    "logReg_pred = logReg_pipeline.predict(text_test)"
   ]
  },
  {
   "cell_type": "code",
   "execution_count": 272,
   "metadata": {},
   "outputs": [
    {
     "data": {
      "image/png": "[encoded data removed]",
      "text/plain": [
       "<Figure size 640x480 with 2 Axes>"
      ]
     },
     "metadata": {},
     "output_type": "display_data"
    },
    {
     "name": "stdout",
     "output_type": "stream",
     "text": [
      "              precision    recall  f1-score   support\n",
      "\n",
      "         Neg       0.76      0.56      0.64       237\n",
      "         Neu       0.53      0.54      0.54       195\n",
      "         Pos       0.32      0.64      0.42        55\n",
      "\n",
      "    accuracy                           0.56       487\n",
      "   macro avg       0.53      0.58      0.53       487\n",
      "weighted avg       0.62      0.56      0.58       487\n",
      "\n"
     ]
    }
   ],
   "source": [
    "'''Confusion matrix'''\n",
    "logReg_cm = confusion_matrix(logReg_pred,sinal_test)\n",
    "sns.heatmap(logReg_cm,annot=True,cmap='vlag',fmt='d',xticklabels=['Neg','Pos','Neu'],yticklabels=['Neg','Pos','Neu']).xaxis.tick_top()\n",
    "plt.show()\n",
    "\n",
    "'''Classification Report'''\n",
    "logReg_cr = classification_report(logReg_pred,sinal_test)\n",
    "print(logReg_cr)"
   ]
  },
  {
   "cell_type": "markdown",
   "metadata": {},
   "source": [
    "# MLP CLassifier \n",
    "___"
   ]
  },
  {
   "cell_type": "code",
   "execution_count": 273,
   "metadata": {},
   "outputs": [],
   "source": [
    "'''MLP CLassifier Pipeline'''\n",
    "mlp_pipeline = Pipeline([\n",
    "        ('bow', CountVectorizer(analyzer=process_text)),\n",
    "        ('tfidf', TfidfTransformer()),\n",
    "        ('classifier', MLPClassifier(max_iter=300))\n",
    "    ])"
   ]
  },
  {
   "cell_type": "code",
   "execution_count": 274,
   "metadata": {},
   "outputs": [],
   "source": [
    "mlp_pipeline.fit(text_train,sinal_train)\n",
    "mlp_pred = mlp_pipeline.predict(text_test)"
   ]
  },
  {
   "cell_type": "code",
   "execution_count": 275,
   "metadata": {},
   "outputs": [
    {
     "data": {
      "image/png": "[encoded data removed]",
      "text/plain": [
       "<Figure size 640x480 with 2 Axes>"
      ]
     },
     "metadata": {},
     "output_type": "display_data"
    },
    {
     "name": "stdout",
     "output_type": "stream",
     "text": [
      "              precision    recall  f1-score   support\n",
      "\n",
      "         Neg       0.66      0.63      0.64       187\n",
      "         Neu       0.52      0.57      0.55       181\n",
      "         Pos       0.50      0.46      0.48       119\n",
      "\n",
      "    accuracy                           0.57       487\n",
      "   macro avg       0.56      0.55      0.56       487\n",
      "weighted avg       0.57      0.57      0.57       487\n",
      "\n"
     ]
    }
   ],
   "source": [
    "'''Confusion matrix'''\n",
    "mlp_cm = confusion_matrix(mlp_pred,sinal_test)\n",
    "sns.heatmap(mlp_cm,annot=True,cmap='vlag',fmt='d',xticklabels=['Neg','Pos','Neu'],yticklabels=['Neg','Pos','Neu']).xaxis.tick_top()\n",
    "plt.show()\n",
    "\n",
    "'''Classification Report'''\n",
    "mlp_cr = classification_report(mlp_pred,sinal_test)\n",
    "print(mlp_cr)"
   ]
  },
  {
   "cell_type": "markdown",
   "metadata": {},
   "source": [
    "# Naive Bayes\n",
    "___"
   ]
  },
  {
   "cell_type": "code",
   "execution_count": 276,
   "metadata": {},
   "outputs": [],
   "source": [
    "'''MLP CLassifier Pipeline'''\n",
    "mnb_pipeline = Pipeline([\n",
    "        ('bow', CountVectorizer(analyzer=process_text)),\n",
    "        ('tfidf', TfidfTransformer()),\n",
    "        ('classifier', MultinomialNB())\n",
    "    ])"
   ]
  },
  {
   "cell_type": "code",
   "execution_count": 277,
   "metadata": {},
   "outputs": [],
   "source": [
    "mnb_pipeline.fit(text_train,sinal_train)\n",
    "mnb_pred = mnb_pipeline.predict(text_test)"
   ]
  },
  {
   "cell_type": "code",
   "execution_count": 278,
   "metadata": {},
   "outputs": [
    {
     "data": {
      "image/png": "[encoded data removed]",
      "text/plain": [
       "<Figure size 640x480 with 2 Axes>"
      ]
     },
     "metadata": {},
     "output_type": "display_data"
    },
    {
     "name": "stdout",
     "output_type": "stream",
     "text": [
      "              precision    recall  f1-score   support\n",
      "\n",
      "         Neg       0.78      0.53      0.63       262\n",
      "         Neu       0.55      0.55      0.55       200\n",
      "         Pos       0.15      0.68      0.25        25\n",
      "\n",
      "    accuracy                           0.54       487\n",
      "   macro avg       0.50      0.59      0.48       487\n",
      "weighted avg       0.66      0.54      0.58       487\n",
      "\n"
     ]
    }
   ],
   "source": [
    "'''Confusion matrix'''\n",
    "mnb_cm = confusion_matrix(mnb_pred,sinal_test)\n",
    "sns.heatmap(mnb_cm,annot=True,cmap='vlag',fmt='d',xticklabels=['Neg','Pos','Neu'],yticklabels=['Neg','Pos','Neu']).xaxis.tick_top()\n",
    "plt.show()\n",
    "\n",
    "'''Classification Report'''\n",
    "mnb_cr = classification_report(mnb_pred,sinal_test)\n",
    "print(mnb_cr)"
   ]
  }
 ],
 "metadata": {
  "kernelspec": {
   "display_name": "Python 3.9.13 ('base')",
   "language": "python",
   "name": "python3"
  },
  "language_info": {
   "codemirror_mode": {
    "name": "ipython",
    "version": 3
   },
   "file_extension": ".py",
   "mimetype": "text/x-python",
   "name": "python",
   "nbconvert_exporter": "python",
   "pygments_lexer": "ipython3",
   "version": "3.9.13"
  },
  "orig_nbformat": 4,
  "vscode": {
   "interpreter": {
    "hash": "ad2bdc8ecc057115af97d19610ffacc2b4e99fae6737bb82f5d7fb13d2f2c186"
   }
  }
 },
 "nbformat": 4,
 "nbformat_minor": 2
}
